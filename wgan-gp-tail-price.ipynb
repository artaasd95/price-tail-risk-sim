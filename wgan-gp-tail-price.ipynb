{
 "cells": [
  {
   "cell_type": "code",
   "execution_count": null,
   "metadata": {},
   "outputs": [],
   "source": [
    "%load_ext autoreload\n",
    "%autoreload 2\n"
   ]
  },
  {
   "cell_type": "code",
   "execution_count": null,
   "metadata": {},
   "outputs": [],
   "source": [
    "from comet_ml import Experiment\n",
    "from comet_ml.integration.pytorch import log_model"
   ]
  },
  {
   "cell_type": "code",
   "execution_count": null,
   "metadata": {},
   "outputs": [],
   "source": [
    "import torch\n",
    "import torch.nn as nn\n",
    "import torch.nn.functional as F\n",
    "from torch.autograd import Variable\n",
    "from tqdm import tqdm\n",
    "from datetime import datetime\n",
    "import pandas as pd\n",
    "import pytz\n",
    "import numpy as np\n",
    "from capi import api_key\n",
    "\n",
    "from models.gan_models import *\n",
    "import yfinance as yf\n",
    "import MetaTrader5 as mt5\n",
    "import random\n",
    "import os"
   ]
  },
  {
   "cell_type": "code",
   "execution_count": null,
   "metadata": {},
   "outputs": [],
   "source": [
    "#api_key = os.environ['COMET_API_KEY']\n",
    "#api_key = ''"
   ]
  },
  {
   "cell_type": "code",
   "execution_count": null,
   "metadata": {},
   "outputs": [],
   "source": [
    "experiment = Experiment(\n",
    "  api_key=api_key,\n",
    "  project_name=\"tail-price\",\n",
    "  workspace=\"artaasd95\"\n",
    ")"
   ]
  },
  {
   "cell_type": "code",
   "execution_count": null,
   "metadata": {},
   "outputs": [],
   "source": [
    "mt5.initialize()\n",
    "\n",
    "print('loading current tf data')\n",
    "utc_from = datetime(2021, 1, 1, tzinfo=pytz.timezone(\"Asia/Nicosia\"))\n",
    "utc_to = datetime.now(pytz.timezone(\"Asia/Nicosia\"))\n",
    "\n",
    "data = mt5.copy_rates_range('XAUUSD', mt5.TIMEFRAME_H4, utc_from, utc_to)\n",
    "data = pd.DataFrame(data)\n",
    "time_data = data.time\n",
    "data.drop(columns=['tick_volume', 'spread', 'real_volume'], inplace=True)"
   ]
  },
  {
   "cell_type": "code",
   "execution_count": null,
   "metadata": {},
   "outputs": [],
   "source": [
    "data.to_csv('xau_2021_H4.csv')"
   ]
  },
  {
   "cell_type": "code",
   "execution_count": null,
   "metadata": {},
   "outputs": [],
   "source": [
    "data = pd.read_csv('xau_2021_H4.csv')"
   ]
  },
  {
   "cell_type": "code",
   "execution_count": null,
   "metadata": {},
   "outputs": [],
   "source": [
    "data"
   ]
  },
  {
   "cell_type": "code",
   "execution_count": null,
   "metadata": {},
   "outputs": [],
   "source": [
    "input_size = 1\n",
    "hidden_size = 512\n",
    "seq_length = 50\n",
    "num_layers = 8\n",
    "batch_size = 64\n",
    "num_epochs = 100\n",
    "learning_rate = 0.0005\n",
    "lambda_gp = 10\n",
    "n_critic = 5\n",
    "# Initialize models\n",
    "main_gen = MainGenerator(input_size, hidden_size, num_layers, 0.5, 1)\n",
    "discriminator = Discriminator(input_size, int(hidden_size/2), num_layers-3, 0.5)\n",
    "\n",
    "noise_gen = NoiseGenerator(input_size, 512, 1, 0.5)\n",
    "noise_disc = NoiseDiscriminator(input_size, 512, 1, 0.5)"
   ]
  },
  {
   "cell_type": "code",
   "execution_count": null,
   "metadata": {},
   "outputs": [],
   "source": [
    "enable_cuda = False\n",
    "device = torch.device('cuda' if torch.cuda.is_available() and enable_cuda else 'cpu')"
   ]
  },
  {
   "cell_type": "code",
   "execution_count": 38,
   "metadata": {},
   "outputs": [],
   "source": [
    "def compute_gradient_penalty(D, real_samples, fake_samples):\n",
    "    \"\"\"Calculates the gradient penalty loss for WGAN GP\"\"\"\n",
    "    # Random weight term for interpolation between real and fake samples\n",
    "    alpha = torch.tensor(np.random.random((real_samples.size(0), 1)), dtype=torch.float).to(device)\n",
    "    # Get random interpolation between real and fake samples\n",
    "    interpolates = (alpha * real_samples + ((1 - alpha) * fake_samples)).requires_grad_(True)\n",
    "    d_interpolates = D(interpolates)\n",
    "    #fake = torch.ones(batch_size, 1).to(device)\n",
    "    fake = Variable(torch.FloatTensor(batch_size, 1).fill_(1.0), requires_grad=False)\n",
    "    # Get gradient w.r.t. interpolates\n",
    "    gradients = torch.autograd.grad(\n",
    "        outputs=d_interpolates,\n",
    "        inputs=interpolates,\n",
    "        grad_outputs=fake,\n",
    "        create_graph=True,\n",
    "        retain_graph=True,\n",
    "        only_inputs=True,\n",
    "    )[0]\n",
    "    gradients = gradients.view(gradients.size(0), -1)\n",
    "    gradient_penalty = ((gradients.norm(2, dim=1) - 1) ** 2).mean()\n",
    "    return gradient_penalty"
   ]
  },
  {
   "cell_type": "code",
   "execution_count": 39,
   "metadata": {},
   "outputs": [
    {
     "data": {
      "text/plain": [
       "Discriminator(\n",
       "  (lstm): LSTM(1, 256, num_layers=5, batch_first=True, dropout=0.5)\n",
       "  (fc1): Linear(in_features=256, out_features=128, bias=True)\n",
       "  (fc2): Linear(in_features=128, out_features=1, bias=True)\n",
       "  (leaky_relu): LeakyReLU(negative_slope=0.2)\n",
       ")"
      ]
     },
     "execution_count": 39,
     "metadata": {},
     "output_type": "execute_result"
    }
   ],
   "source": [
    "main_gen.to(device)\n",
    "noise_gen.to(device)\n",
    "discriminator.to(device)"
   ]
  },
  {
   "cell_type": "code",
   "execution_count": 40,
   "metadata": {},
   "outputs": [],
   "source": [
    "optimizer_G = torch.optim.AdamW(main_gen.parameters(), lr=learning_rate)\n",
    "optimizer_D = torch.optim.AdamW(discriminator.parameters(), lr=learning_rate)\n",
    "\n",
    "optimizer_NG = torch.optim.AdamW(noise_gen.parameters(), lr=learning_rate)\n",
    "optimizer_ND = torch.optim.AdamW(noise_disc.parameters(), lr=learning_rate)\n",
    "\n",
    "optim_g_sched = torch.optim.lr_scheduler.ExponentialLR(optimizer_G, 0.1)\n",
    "optim_d_sched = torch.optim.lr_scheduler.ExponentialLR(optimizer_D, 0.1)\n",
    "\n",
    "optim_ng_sched = torch.optim.lr_scheduler.ExponentialLR(optimizer_NG, 0.1)\n",
    "optim_nd_sched = torch.optim.lr_scheduler.ExponentialLR(optimizer_ND, 0.1)"
   ]
  },
  {
   "cell_type": "code",
   "execution_count": 41,
   "metadata": {},
   "outputs": [],
   "source": [
    "cauchy_dist = torch.distributions.cauchy.Cauchy(loc=0, scale=0.5)"
   ]
  },
  {
   "cell_type": "code",
   "execution_count": 42,
   "metadata": {},
   "outputs": [
    {
     "name": "stderr",
     "output_type": "stream",
     "text": [
      "  2%|▏         | 3/200 [00:00<00:24,  7.99it/s]"
     ]
    },
    {
     "name": "stdout",
     "output_type": "stream",
     "text": [
      "Epoch [1/100]  Discriminator Loss: 0.7321289777755737  Generator Loss: 0.7167172431945801\n",
      "Epoch [2/100]  Discriminator Loss: 0.6711727976799011  Generator Loss: 0.6638600826263428\n",
      "Epoch [3/100]  Discriminator Loss: 0.6738688945770264  Generator Loss: 0.6555294990539551\n"
     ]
    },
    {
     "name": "stderr",
     "output_type": "stream",
     "text": [
      "  2%|▎         | 5/200 [00:00<00:19, 10.04it/s]"
     ]
    },
    {
     "name": "stdout",
     "output_type": "stream",
     "text": [
      "Epoch [4/100]  Discriminator Loss: 0.6785016059875488  Generator Loss: 0.6567602157592773\n",
      "Epoch [5/100]  Discriminator Loss: 0.6763778924942017  Generator Loss: 0.6576271057128906\n",
      "Epoch [6/100]  Discriminator Loss: 0.6729595065116882  Generator Loss: 0.657569944858551\n"
     ]
    },
    {
     "name": "stderr",
     "output_type": "stream",
     "text": [
      "  4%|▍         | 9/200 [00:00<00:16, 11.70it/s]"
     ]
    },
    {
     "name": "stdout",
     "output_type": "stream",
     "text": [
      "Epoch [7/100]  Discriminator Loss: 0.6743687391281128  Generator Loss: 0.6556312441825867\n",
      "Epoch [8/100]  Discriminator Loss: 0.6699609160423279  Generator Loss: 0.6533228754997253\n",
      "Epoch [9/100]  Discriminator Loss: 0.6780487298965454  Generator Loss: 0.6511847972869873\n"
     ]
    },
    {
     "name": "stderr",
     "output_type": "stream",
     "text": [
      "  6%|▌         | 11/200 [00:01<00:15, 12.29it/s]"
     ]
    },
    {
     "name": "stdout",
     "output_type": "stream",
     "text": [
      "Epoch [10/100]  Discriminator Loss: 0.6658498048782349  Generator Loss: 0.6561504006385803\n",
      "Epoch [11/100]  Discriminator Loss: 0.675247848033905  Generator Loss: 0.6530535221099854\n",
      "Epoch [12/100]  Discriminator Loss: 0.6682347059249878  Generator Loss: 0.6596575379371643\n"
     ]
    },
    {
     "name": "stderr",
     "output_type": "stream",
     "text": [
      "  8%|▊         | 15/200 [00:01<00:15, 12.30it/s]"
     ]
    },
    {
     "name": "stdout",
     "output_type": "stream",
     "text": [
      "Epoch [13/100]  Discriminator Loss: 0.6740747690200806  Generator Loss: 0.657694399356842\n",
      "Epoch [14/100]  Discriminator Loss: 0.6715173721313477  Generator Loss: 0.6574991941452026\n",
      "Epoch [15/100]  Discriminator Loss: 0.6757882833480835  Generator Loss: 0.6604217290878296\n"
     ]
    },
    {
     "name": "stderr",
     "output_type": "stream",
     "text": [
      "  8%|▊         | 17/200 [00:01<00:14, 12.84it/s]"
     ]
    },
    {
     "name": "stdout",
     "output_type": "stream",
     "text": [
      "Epoch [16/100]  Discriminator Loss: 0.6761256456375122  Generator Loss: 0.6544456481933594\n",
      "Epoch [17/100]  Discriminator Loss: 0.6732297539710999  Generator Loss: 0.6603171825408936\n",
      "Epoch [18/100]  Discriminator Loss: 0.6722882390022278  Generator Loss: 0.6573776602745056\n"
     ]
    },
    {
     "name": "stderr",
     "output_type": "stream",
     "text": [
      " 10%|█         | 21/200 [00:01<00:13, 12.80it/s]"
     ]
    },
    {
     "name": "stdout",
     "output_type": "stream",
     "text": [
      "Epoch [19/100]  Discriminator Loss: 0.6723684072494507  Generator Loss: 0.6601493954658508\n",
      "Epoch [20/100]  Discriminator Loss: 0.6749253273010254  Generator Loss: 0.6583746075630188\n",
      "Epoch [21/100]  Discriminator Loss: 0.674945592880249  Generator Loss: 0.6594683527946472\n"
     ]
    },
    {
     "name": "stderr",
     "output_type": "stream",
     "text": [
      " 12%|█▏        | 23/200 [00:01<00:13, 12.83it/s]"
     ]
    },
    {
     "name": "stdout",
     "output_type": "stream",
     "text": [
      "Epoch [22/100]  Discriminator Loss: 0.6728671789169312  Generator Loss: 0.6528833508491516\n",
      "Epoch [23/100]  Discriminator Loss: 0.6761128902435303  Generator Loss: 0.6568882465362549\n",
      "Epoch [24/100]  Discriminator Loss: 0.6679099798202515  Generator Loss: 0.6568989753723145\n"
     ]
    },
    {
     "name": "stderr",
     "output_type": "stream",
     "text": [
      " 14%|█▎        | 27/200 [00:02<00:13, 13.14it/s]"
     ]
    },
    {
     "name": "stdout",
     "output_type": "stream",
     "text": [
      "Epoch [25/100]  Discriminator Loss: 0.672113299369812  Generator Loss: 0.6599352359771729\n",
      "Epoch [26/100]  Discriminator Loss: 0.6710923910140991  Generator Loss: 0.6598474383354187\n",
      "Epoch [27/100]  Discriminator Loss: 0.6685242652893066  Generator Loss: 0.6577602028846741\n"
     ]
    },
    {
     "name": "stderr",
     "output_type": "stream",
     "text": [
      " 14%|█▍        | 29/200 [00:02<00:13, 12.54it/s]"
     ]
    },
    {
     "name": "stdout",
     "output_type": "stream",
     "text": [
      "Epoch [28/100]  Discriminator Loss: 0.6716752052307129  Generator Loss: 0.6549863815307617\n",
      "Epoch [29/100]  Discriminator Loss: 0.6686414480209351  Generator Loss: 0.6601085662841797\n",
      "Epoch [30/100]  Discriminator Loss: 0.6748565435409546  Generator Loss: 0.6572213172912598\n"
     ]
    },
    {
     "name": "stderr",
     "output_type": "stream",
     "text": [
      " 16%|█▌        | 31/200 [00:02<00:13, 12.43it/s]"
     ]
    },
    {
     "name": "stdout",
     "output_type": "stream",
     "text": [
      "Epoch [31/100]  Discriminator Loss: 0.6687502861022949  Generator Loss: 0.6594341397285461\n",
      "Epoch [32/100]  Discriminator Loss: 0.6723178625106812  Generator Loss: 0.6569088101387024\n",
      "Epoch [33/100]  Discriminator Loss: 0.6717404127120972  Generator Loss: 0.6584216952323914\n"
     ]
    },
    {
     "name": "stderr",
     "output_type": "stream",
     "text": [
      " 18%|█▊        | 35/200 [00:02<00:14, 11.06it/s]"
     ]
    },
    {
     "name": "stdout",
     "output_type": "stream",
     "text": [
      "Epoch [34/100]  Discriminator Loss: 0.6845183968544006  Generator Loss: 0.655526876449585\n",
      "Epoch [35/100]  Discriminator Loss: 0.6724706888198853  Generator Loss: 0.6583835482597351\n",
      "Epoch [36/100]  Discriminator Loss: 0.6798465251922607  Generator Loss: 0.6560112237930298\n"
     ]
    },
    {
     "name": "stderr",
     "output_type": "stream",
     "text": [
      " 20%|█▉        | 39/200 [00:03<00:14, 11.10it/s]"
     ]
    },
    {
     "name": "stdout",
     "output_type": "stream",
     "text": [
      "Epoch [37/100]  Discriminator Loss: 0.6746347546577454  Generator Loss: 0.655279278755188\n",
      "Epoch [38/100]  Discriminator Loss: 0.6744682788848877  Generator Loss: 0.6562791466712952\n",
      "Epoch [39/100]  Discriminator Loss: 0.6711405515670776  Generator Loss: 0.6555812358856201\n"
     ]
    },
    {
     "name": "stderr",
     "output_type": "stream",
     "text": [
      " 20%|██        | 41/200 [00:03<00:14, 10.80it/s]"
     ]
    },
    {
     "name": "stdout",
     "output_type": "stream",
     "text": [
      "Epoch [40/100]  Discriminator Loss: 0.6715794801712036  Generator Loss: 0.6556445360183716\n",
      "Epoch [41/100]  Discriminator Loss: 0.6734486818313599  Generator Loss: 0.6574373841285706\n",
      "Epoch [42/100]  Discriminator Loss: 0.6681691408157349  Generator Loss: 0.6565442085266113\n"
     ]
    },
    {
     "name": "stderr",
     "output_type": "stream",
     "text": [
      " 22%|██▎       | 45/200 [00:03<00:13, 11.87it/s]"
     ]
    },
    {
     "name": "stdout",
     "output_type": "stream",
     "text": [
      "Epoch [43/100]  Discriminator Loss: 0.6725962162017822  Generator Loss: 0.6560948491096497\n",
      "Epoch [44/100]  Discriminator Loss: 0.675514280796051  Generator Loss: 0.6543031334877014\n",
      "Epoch [45/100]  Discriminator Loss: 0.6707512140274048  Generator Loss: 0.6542221903800964\n"
     ]
    },
    {
     "name": "stderr",
     "output_type": "stream",
     "text": [
      " 24%|██▎       | 47/200 [00:04<00:12, 12.23it/s]"
     ]
    },
    {
     "name": "stdout",
     "output_type": "stream",
     "text": [
      "Epoch [46/100]  Discriminator Loss: 0.6733559370040894  Generator Loss: 0.6566320061683655\n",
      "Epoch [47/100]  Discriminator Loss: 0.6759675741195679  Generator Loss: 0.6581273674964905\n",
      "Epoch [48/100]  Discriminator Loss: 0.6680107116699219  Generator Loss: 0.6560797095298767\n"
     ]
    },
    {
     "name": "stderr",
     "output_type": "stream",
     "text": [
      " 26%|██▌       | 51/200 [00:04<00:11, 12.71it/s]"
     ]
    },
    {
     "name": "stdout",
     "output_type": "stream",
     "text": [
      "Epoch [49/100]  Discriminator Loss: 0.6738573908805847  Generator Loss: 0.6583305597305298\n",
      "Epoch [50/100]  Discriminator Loss: 0.6659449338912964  Generator Loss: 0.6552936434745789\n",
      "Epoch [51/100]  Discriminator Loss: 0.6766265034675598  Generator Loss: 0.6567453145980835\n"
     ]
    },
    {
     "name": "stderr",
     "output_type": "stream",
     "text": [
      " 26%|██▋       | 53/200 [00:04<00:11, 12.86it/s]"
     ]
    },
    {
     "name": "stdout",
     "output_type": "stream",
     "text": [
      "Epoch [52/100]  Discriminator Loss: 0.6824303269386292  Generator Loss: 0.6538836359977722\n",
      "Epoch [53/100]  Discriminator Loss: 0.6681782007217407  Generator Loss: 0.659012496471405\n",
      "Epoch [54/100]  Discriminator Loss: 0.6714963912963867  Generator Loss: 0.655067503452301\n"
     ]
    },
    {
     "name": "stderr",
     "output_type": "stream",
     "text": [
      " 28%|██▊       | 57/200 [00:04<00:10, 13.26it/s]"
     ]
    },
    {
     "name": "stdout",
     "output_type": "stream",
     "text": [
      "Epoch [55/100]  Discriminator Loss: 0.6678986549377441  Generator Loss: 0.6568470001220703\n",
      "Epoch [56/100]  Discriminator Loss: 0.6707209348678589  Generator Loss: 0.6585326194763184\n",
      "Epoch [57/100]  Discriminator Loss: 0.6730749011039734  Generator Loss: 0.6575442552566528\n"
     ]
    },
    {
     "name": "stderr",
     "output_type": "stream",
     "text": [
      " 30%|██▉       | 59/200 [00:04<00:10, 13.25it/s]"
     ]
    },
    {
     "name": "stdout",
     "output_type": "stream",
     "text": [
      "Epoch [58/100]  Discriminator Loss: 0.6760588884353638  Generator Loss: 0.6594815850257874\n",
      "Epoch [59/100]  Discriminator Loss: 0.6725232005119324  Generator Loss: 0.652961254119873\n",
      "Epoch [60/100]  Discriminator Loss: 0.6688035726547241  Generator Loss: 0.6571773290634155\n"
     ]
    },
    {
     "name": "stderr",
     "output_type": "stream",
     "text": [
      " 32%|███▏      | 63/200 [00:05<00:09, 13.77it/s]"
     ]
    },
    {
     "name": "stdout",
     "output_type": "stream",
     "text": [
      "Epoch [61/100]  Discriminator Loss: 0.6744883060455322  Generator Loss: 0.6566011905670166\n",
      "Epoch [62/100]  Discriminator Loss: 0.6759864091873169  Generator Loss: 0.6601585149765015\n",
      "Epoch [63/100]  Discriminator Loss: 0.6692639589309692  Generator Loss: 0.65885990858078\n",
      "Epoch [64/100]  Discriminator Loss: 0.6739615201950073  Generator Loss: 0.6578430533409119\n"
     ]
    },
    {
     "name": "stderr",
     "output_type": "stream",
     "text": [
      " 34%|███▎      | 67/200 [00:05<00:10, 13.19it/s]"
     ]
    },
    {
     "name": "stdout",
     "output_type": "stream",
     "text": [
      "Epoch [65/100]  Discriminator Loss: 0.6766167879104614  Generator Loss: 0.6557919979095459\n",
      "Epoch [66/100]  Discriminator Loss: 0.6775991916656494  Generator Loss: 0.6562234163284302\n",
      "Epoch [67/100]  Discriminator Loss: 0.6687427759170532  Generator Loss: 0.6569811701774597\n"
     ]
    },
    {
     "name": "stderr",
     "output_type": "stream",
     "text": [
      " 34%|███▍      | 69/200 [00:05<00:09, 13.20it/s]"
     ]
    },
    {
     "name": "stdout",
     "output_type": "stream",
     "text": [
      "Epoch [68/100]  Discriminator Loss: 0.6716487407684326  Generator Loss: 0.6556211113929749\n",
      "Epoch [69/100]  Discriminator Loss: 0.6768629550933838  Generator Loss: 0.6594432592391968\n",
      "Epoch [70/100]  Discriminator Loss: 0.6735829710960388  Generator Loss: 0.6533051133155823\n"
     ]
    },
    {
     "name": "stderr",
     "output_type": "stream",
     "text": [
      " 36%|███▋      | 73/200 [00:05<00:09, 13.02it/s]"
     ]
    },
    {
     "name": "stdout",
     "output_type": "stream",
     "text": [
      "Epoch [71/100]  Discriminator Loss: 0.7319368124008179  Generator Loss: 0.6573737859725952\n",
      "Epoch [72/100]  Discriminator Loss: 0.667771577835083  Generator Loss: 0.6598931550979614\n",
      "Epoch [73/100]  Discriminator Loss: 0.6696381568908691  Generator Loss: 0.659515917301178\n"
     ]
    },
    {
     "name": "stderr",
     "output_type": "stream",
     "text": [
      " 38%|███▊      | 75/200 [00:06<00:09, 13.16it/s]"
     ]
    },
    {
     "name": "stdout",
     "output_type": "stream",
     "text": [
      "Epoch [74/100]  Discriminator Loss: 0.6763019561767578  Generator Loss: 0.6565026044845581\n",
      "Epoch [75/100]  Discriminator Loss: 0.6758725643157959  Generator Loss: 0.6574181318283081\n",
      "Epoch [76/100]  Discriminator Loss: 0.672273576259613  Generator Loss: 0.6568236947059631\n"
     ]
    },
    {
     "name": "stderr",
     "output_type": "stream",
     "text": [
      " 40%|███▉      | 79/200 [00:06<00:08, 13.56it/s]"
     ]
    },
    {
     "name": "stdout",
     "output_type": "stream",
     "text": [
      "Epoch [77/100]  Discriminator Loss: 0.6772656440734863  Generator Loss: 0.6582925915718079\n",
      "Epoch [78/100]  Discriminator Loss: 0.6671090126037598  Generator Loss: 0.6543011665344238\n",
      "Epoch [79/100]  Discriminator Loss: 0.6744828224182129  Generator Loss: 0.6558214426040649\n",
      "Epoch [80/100]  Discriminator Loss: 0.6794703006744385  Generator Loss: 0.6558604836463928\n"
     ]
    },
    {
     "name": "stderr",
     "output_type": "stream",
     "text": [
      " 42%|████▏     | 83/200 [00:06<00:08, 14.00it/s]"
     ]
    },
    {
     "name": "stdout",
     "output_type": "stream",
     "text": [
      "Epoch [81/100]  Discriminator Loss: 0.6822835206985474  Generator Loss: 0.6552705764770508\n",
      "Epoch [82/100]  Discriminator Loss: 0.6744680404663086  Generator Loss: 0.6547224521636963\n",
      "Epoch [83/100]  Discriminator Loss: 0.6721189022064209  Generator Loss: 0.6584519147872925\n",
      "Epoch [84/100]  Discriminator Loss: 0.6745598316192627  Generator Loss: 0.6583213210105896\n"
     ]
    },
    {
     "name": "stderr",
     "output_type": "stream",
     "text": [
      " 44%|████▎     | 87/200 [00:06<00:08, 13.32it/s]"
     ]
    },
    {
     "name": "stdout",
     "output_type": "stream",
     "text": [
      "Epoch [85/100]  Discriminator Loss: 0.6754661798477173  Generator Loss: 0.6587684750556946\n",
      "Epoch [86/100]  Discriminator Loss: 0.6789015531539917  Generator Loss: 0.6581525802612305\n",
      "Epoch [87/100]  Discriminator Loss: 0.6683861017227173  Generator Loss: 0.6562936305999756\n"
     ]
    },
    {
     "name": "stderr",
     "output_type": "stream",
     "text": [
      " 44%|████▍     | 89/200 [00:07<00:08, 13.33it/s]"
     ]
    },
    {
     "name": "stdout",
     "output_type": "stream",
     "text": [
      "Epoch [88/100]  Discriminator Loss: 0.6741271018981934  Generator Loss: 0.6552295684814453\n",
      "Epoch [89/100]  Discriminator Loss: 0.6769778728485107  Generator Loss: 0.6550023555755615\n",
      "Epoch [90/100]  Discriminator Loss: 0.6701066493988037  Generator Loss: 0.6566346287727356\n"
     ]
    },
    {
     "name": "stderr",
     "output_type": "stream",
     "text": [
      " 46%|████▋     | 93/200 [00:07<00:08, 13.24it/s]"
     ]
    },
    {
     "name": "stdout",
     "output_type": "stream",
     "text": [
      "Epoch [91/100]  Discriminator Loss: 0.6754724979400635  Generator Loss: 0.6546974182128906\n",
      "Epoch [92/100]  Discriminator Loss: 0.6741604208946228  Generator Loss: 0.6541067361831665\n",
      "Epoch [93/100]  Discriminator Loss: 0.6716094017028809  Generator Loss: 0.6564744114875793\n"
     ]
    },
    {
     "name": "stderr",
     "output_type": "stream",
     "text": [
      " 48%|████▊     | 95/200 [00:07<00:07, 13.23it/s]"
     ]
    },
    {
     "name": "stdout",
     "output_type": "stream",
     "text": [
      "Epoch [94/100]  Discriminator Loss: 0.6691118478775024  Generator Loss: 0.6599384546279907\n",
      "Epoch [95/100]  Discriminator Loss: 0.6702507734298706  Generator Loss: 0.6570469737052917\n",
      "Epoch [96/100]  Discriminator Loss: 0.6727256774902344  Generator Loss: 0.6585808992385864\n"
     ]
    },
    {
     "name": "stderr",
     "output_type": "stream",
     "text": [
      " 50%|████▉     | 99/200 [00:07<00:08, 12.42it/s]"
     ]
    },
    {
     "name": "stdout",
     "output_type": "stream",
     "text": [
      "Epoch [97/100]  Discriminator Loss: 0.6757375001907349  Generator Loss: 0.6528564095497131\n",
      "Epoch [98/100]  Discriminator Loss: 0.6731367707252502  Generator Loss: 0.6589200496673584\n",
      "Epoch [99/100]  Discriminator Loss: 0.6721850633621216  Generator Loss: 0.6570332050323486\n"
     ]
    },
    {
     "name": "stderr",
     "output_type": "stream",
     "text": [
      " 50%|█████     | 101/200 [00:08<00:07, 12.50it/s]"
     ]
    },
    {
     "name": "stdout",
     "output_type": "stream",
     "text": [
      "Epoch [100/100]  Discriminator Loss: 0.6756004095077515  Generator Loss: 0.6560980677604675\n",
      "Epoch [101/100]  Discriminator Loss: 0.6810595989227295  Generator Loss: 0.6568270921707153\n",
      "Epoch [102/100]  Discriminator Loss: 0.6740086078643799  Generator Loss: 0.6595509052276611\n"
     ]
    },
    {
     "name": "stderr",
     "output_type": "stream",
     "text": [
      " 52%|█████▎    | 105/200 [00:08<00:07, 12.97it/s]"
     ]
    },
    {
     "name": "stdout",
     "output_type": "stream",
     "text": [
      "Epoch [103/100]  Discriminator Loss: 0.6734663844108582  Generator Loss: 0.6552230715751648\n",
      "Epoch [104/100]  Discriminator Loss: 0.6758326292037964  Generator Loss: 0.6587973833084106\n",
      "Epoch [105/100]  Discriminator Loss: 0.6720638275146484  Generator Loss: 0.6556677222251892\n"
     ]
    },
    {
     "name": "stderr",
     "output_type": "stream",
     "text": [
      " 54%|█████▎    | 107/200 [00:08<00:07, 13.24it/s]"
     ]
    },
    {
     "name": "stdout",
     "output_type": "stream",
     "text": [
      "Epoch [106/100]  Discriminator Loss: 0.6770964860916138  Generator Loss: 0.6539633870124817\n",
      "Epoch [107/100]  Discriminator Loss: 0.6714558601379395  Generator Loss: 0.6594372391700745\n",
      "Epoch [108/100]  Discriminator Loss: 0.6738393306732178  Generator Loss: 0.6564784646034241\n"
     ]
    },
    {
     "name": "stderr",
     "output_type": "stream",
     "text": [
      " 56%|█████▌    | 111/200 [00:08<00:06, 13.25it/s]"
     ]
    },
    {
     "name": "stdout",
     "output_type": "stream",
     "text": [
      "Epoch [109/100]  Discriminator Loss: 0.6796597242355347  Generator Loss: 0.6554265022277832\n",
      "Epoch [110/100]  Discriminator Loss: 0.6757157444953918  Generator Loss: 0.6581960320472717\n",
      "Epoch [111/100]  Discriminator Loss: 0.6738409399986267  Generator Loss: 0.6606451869010925\n"
     ]
    },
    {
     "name": "stderr",
     "output_type": "stream",
     "text": [
      " 56%|█████▋    | 113/200 [00:08<00:06, 13.19it/s]"
     ]
    },
    {
     "name": "stdout",
     "output_type": "stream",
     "text": [
      "Epoch [112/100]  Discriminator Loss: 0.6755201816558838  Generator Loss: 0.6549407243728638\n",
      "Epoch [113/100]  Discriminator Loss: 0.6749523878097534  Generator Loss: 0.6587933897972107\n",
      "Epoch [114/100]  Discriminator Loss: 0.6745783090591431  Generator Loss: 0.656987190246582\n"
     ]
    },
    {
     "name": "stderr",
     "output_type": "stream",
     "text": [
      " 58%|█████▊    | 117/200 [00:09<00:06, 13.16it/s]"
     ]
    },
    {
     "name": "stdout",
     "output_type": "stream",
     "text": [
      "Epoch [115/100]  Discriminator Loss: 0.6819429397583008  Generator Loss: 0.6576169729232788\n",
      "Epoch [116/100]  Discriminator Loss: 0.6785188317298889  Generator Loss: 0.6572177410125732\n",
      "Epoch [117/100]  Discriminator Loss: 0.673277735710144  Generator Loss: 0.6573667526245117\n"
     ]
    },
    {
     "name": "stderr",
     "output_type": "stream",
     "text": [
      " 60%|█████▉    | 119/200 [00:09<00:06, 13.32it/s]"
     ]
    },
    {
     "name": "stdout",
     "output_type": "stream",
     "text": [
      "Epoch [118/100]  Discriminator Loss: 0.6773547530174255  Generator Loss: 0.6588049530982971\n",
      "Epoch [119/100]  Discriminator Loss: 0.6751121282577515  Generator Loss: 0.655370831489563\n",
      "Epoch [120/100]  Discriminator Loss: 0.6752287149429321  Generator Loss: 0.6575201153755188\n"
     ]
    },
    {
     "name": "stderr",
     "output_type": "stream",
     "text": [
      " 62%|██████▏   | 123/200 [00:09<00:05, 12.95it/s]"
     ]
    },
    {
     "name": "stdout",
     "output_type": "stream",
     "text": [
      "Epoch [121/100]  Discriminator Loss: 0.6706373691558838  Generator Loss: 0.6551544666290283\n",
      "Epoch [122/100]  Discriminator Loss: 0.6701726913452148  Generator Loss: 0.6584265232086182\n",
      "Epoch [123/100]  Discriminator Loss: 0.6699032783508301  Generator Loss: 0.657492458820343\n"
     ]
    },
    {
     "name": "stderr",
     "output_type": "stream",
     "text": [
      " 62%|██████▎   | 125/200 [00:09<00:05, 13.05it/s]"
     ]
    },
    {
     "name": "stdout",
     "output_type": "stream",
     "text": [
      "Epoch [124/100]  Discriminator Loss: 0.6715762615203857  Generator Loss: 0.6576783657073975\n",
      "Epoch [125/100]  Discriminator Loss: 0.6796499490737915  Generator Loss: 0.6572245359420776\n",
      "Epoch [126/100]  Discriminator Loss: 0.6738431453704834  Generator Loss: 0.6551255583763123\n"
     ]
    },
    {
     "name": "stderr",
     "output_type": "stream",
     "text": [
      " 64%|██████▍   | 129/200 [00:10<00:05, 12.71it/s]"
     ]
    },
    {
     "name": "stdout",
     "output_type": "stream",
     "text": [
      "Epoch [127/100]  Discriminator Loss: 0.6803445816040039  Generator Loss: 0.6580864191055298\n",
      "Epoch [128/100]  Discriminator Loss: 0.6714516878128052  Generator Loss: 0.6547545790672302\n",
      "Epoch [129/100]  Discriminator Loss: 0.6696627736091614  Generator Loss: 0.6564702987670898\n"
     ]
    },
    {
     "name": "stderr",
     "output_type": "stream",
     "text": [
      " 66%|██████▌   | 131/200 [00:10<00:05, 12.76it/s]"
     ]
    },
    {
     "name": "stdout",
     "output_type": "stream",
     "text": [
      "Epoch [130/100]  Discriminator Loss: 0.6735076308250427  Generator Loss: 0.6574985384941101\n",
      "Epoch [131/100]  Discriminator Loss: 0.6760761141777039  Generator Loss: 0.6606100797653198\n",
      "Epoch [132/100]  Discriminator Loss: 0.6697206497192383  Generator Loss: 0.6577945947647095\n"
     ]
    },
    {
     "name": "stderr",
     "output_type": "stream",
     "text": [
      " 68%|██████▊   | 135/200 [00:10<00:04, 13.18it/s]"
     ]
    },
    {
     "name": "stdout",
     "output_type": "stream",
     "text": [
      "Epoch [133/100]  Discriminator Loss: 0.6708865761756897  Generator Loss: 0.6547327041625977\n",
      "Epoch [134/100]  Discriminator Loss: 0.6738277673721313  Generator Loss: 0.6561760902404785\n",
      "Epoch [135/100]  Discriminator Loss: 0.6805282831192017  Generator Loss: 0.6537676453590393\n"
     ]
    },
    {
     "name": "stderr",
     "output_type": "stream",
     "text": [
      " 68%|██████▊   | 137/200 [00:10<00:04, 13.38it/s]"
     ]
    },
    {
     "name": "stdout",
     "output_type": "stream",
     "text": [
      "Epoch [136/100]  Discriminator Loss: 0.6768721342086792  Generator Loss: 0.655860424041748\n",
      "Epoch [137/100]  Discriminator Loss: 0.6710314750671387  Generator Loss: 0.6549786925315857\n",
      "Epoch [138/100]  Discriminator Loss: 0.6739249229431152  Generator Loss: 0.6538403034210205\n"
     ]
    },
    {
     "name": "stderr",
     "output_type": "stream",
     "text": [
      " 70%|███████   | 141/200 [00:11<00:04, 13.13it/s]"
     ]
    },
    {
     "name": "stdout",
     "output_type": "stream",
     "text": [
      "Epoch [139/100]  Discriminator Loss: 0.6684383749961853  Generator Loss: 0.6560270190238953\n",
      "Epoch [140/100]  Discriminator Loss: 0.6735361814498901  Generator Loss: 0.6546529531478882\n",
      "Epoch [141/100]  Discriminator Loss: 0.6762292385101318  Generator Loss: 0.6577214002609253\n"
     ]
    },
    {
     "name": "stderr",
     "output_type": "stream",
     "text": [
      " 72%|███████▏  | 143/200 [00:11<00:04, 12.94it/s]"
     ]
    },
    {
     "name": "stdout",
     "output_type": "stream",
     "text": [
      "Epoch [142/100]  Discriminator Loss: 0.6730711460113525  Generator Loss: 0.6566190123558044\n",
      "Epoch [143/100]  Discriminator Loss: 0.6738573908805847  Generator Loss: 0.657480001449585\n",
      "Epoch [144/100]  Discriminator Loss: 0.6777072548866272  Generator Loss: 0.6580222845077515\n"
     ]
    },
    {
     "name": "stderr",
     "output_type": "stream",
     "text": [
      " 74%|███████▎  | 147/200 [00:11<00:04, 13.05it/s]"
     ]
    },
    {
     "name": "stdout",
     "output_type": "stream",
     "text": [
      "Epoch [145/100]  Discriminator Loss: 0.6731413006782532  Generator Loss: 0.655311644077301\n",
      "Epoch [146/100]  Discriminator Loss: 0.6742980480194092  Generator Loss: 0.655962347984314\n",
      "Epoch [147/100]  Discriminator Loss: 0.6708853244781494  Generator Loss: 0.6584499478340149\n"
     ]
    },
    {
     "name": "stderr",
     "output_type": "stream",
     "text": [
      " 74%|███████▍  | 149/200 [00:11<00:04, 12.72it/s]"
     ]
    },
    {
     "name": "stdout",
     "output_type": "stream",
     "text": [
      "Epoch [148/100]  Discriminator Loss: 0.6698464155197144  Generator Loss: 0.6529422998428345\n",
      "Epoch [149/100]  Discriminator Loss: 0.68001389503479  Generator Loss: 0.6555978059768677\n",
      "Epoch [150/100]  Discriminator Loss: 0.6708612442016602  Generator Loss: 0.6583355069160461\n"
     ]
    },
    {
     "name": "stderr",
     "output_type": "stream",
     "text": [
      " 76%|███████▋  | 153/200 [00:12<00:03, 12.90it/s]"
     ]
    },
    {
     "name": "stdout",
     "output_type": "stream",
     "text": [
      "Epoch [151/100]  Discriminator Loss: 0.6788134574890137  Generator Loss: 0.6627306342124939\n",
      "Epoch [152/100]  Discriminator Loss: 0.6823104619979858  Generator Loss: 0.6562314033508301\n",
      "Epoch [153/100]  Discriminator Loss: 0.6701462268829346  Generator Loss: 0.6562546491622925\n"
     ]
    },
    {
     "name": "stderr",
     "output_type": "stream",
     "text": [
      " 78%|███████▊  | 155/200 [00:12<00:03, 12.87it/s]"
     ]
    },
    {
     "name": "stdout",
     "output_type": "stream",
     "text": [
      "Epoch [154/100]  Discriminator Loss: 0.6720457077026367  Generator Loss: 0.6561153531074524\n",
      "Epoch [155/100]  Discriminator Loss: 0.6736251711845398  Generator Loss: 0.6549631357192993\n",
      "Epoch [156/100]  Discriminator Loss: 0.6768314838409424  Generator Loss: 0.6563370823860168\n"
     ]
    },
    {
     "name": "stderr",
     "output_type": "stream",
     "text": [
      " 80%|███████▉  | 159/200 [00:12<00:03, 12.48it/s]"
     ]
    },
    {
     "name": "stdout",
     "output_type": "stream",
     "text": [
      "Epoch [157/100]  Discriminator Loss: 0.6771660447120667  Generator Loss: 0.6575019359588623\n",
      "Epoch [158/100]  Discriminator Loss: 0.6690415143966675  Generator Loss: 0.6578018069267273\n",
      "Epoch [159/100]  Discriminator Loss: 0.6724846959114075  Generator Loss: 0.6595878005027771\n"
     ]
    },
    {
     "name": "stderr",
     "output_type": "stream",
     "text": [
      " 80%|████████  | 161/200 [00:12<00:03, 12.73it/s]"
     ]
    },
    {
     "name": "stdout",
     "output_type": "stream",
     "text": [
      "Epoch [160/100]  Discriminator Loss: 0.675300121307373  Generator Loss: 0.6595919728279114\n",
      "Epoch [161/100]  Discriminator Loss: 0.6738332509994507  Generator Loss: 0.659598708152771\n",
      "Epoch [162/100]  Discriminator Loss: 0.6751081943511963  Generator Loss: 0.6540955305099487\n"
     ]
    },
    {
     "name": "stderr",
     "output_type": "stream",
     "text": [
      " 82%|████████▎ | 165/200 [00:13<00:02, 12.81it/s]"
     ]
    },
    {
     "name": "stdout",
     "output_type": "stream",
     "text": [
      "Epoch [163/100]  Discriminator Loss: 0.6766527891159058  Generator Loss: 0.6577381491661072\n",
      "Epoch [164/100]  Discriminator Loss: 0.7030097246170044  Generator Loss: 0.6565927267074585\n",
      "Epoch [165/100]  Discriminator Loss: 0.672304630279541  Generator Loss: 0.6555942296981812\n"
     ]
    },
    {
     "name": "stderr",
     "output_type": "stream",
     "text": [
      " 84%|████████▎ | 167/200 [00:13<00:02, 12.93it/s]"
     ]
    },
    {
     "name": "stdout",
     "output_type": "stream",
     "text": [
      "Epoch [166/100]  Discriminator Loss: 0.674074649810791  Generator Loss: 0.655544638633728\n",
      "Epoch [167/100]  Discriminator Loss: 0.6751401424407959  Generator Loss: 0.6571769118309021\n",
      "Epoch [168/100]  Discriminator Loss: 0.6721838116645813  Generator Loss: 0.6572049856185913\n"
     ]
    },
    {
     "name": "stderr",
     "output_type": "stream",
     "text": [
      " 86%|████████▌ | 171/200 [00:13<00:02, 12.96it/s]"
     ]
    },
    {
     "name": "stdout",
     "output_type": "stream",
     "text": [
      "Epoch [169/100]  Discriminator Loss: 0.6731175780296326  Generator Loss: 0.6570077538490295\n",
      "Epoch [170/100]  Discriminator Loss: 0.6703609824180603  Generator Loss: 0.6593958735466003\n",
      "Epoch [171/100]  Discriminator Loss: 0.6757986545562744  Generator Loss: 0.6569326519966125\n"
     ]
    },
    {
     "name": "stderr",
     "output_type": "stream",
     "text": [
      " 86%|████████▋ | 173/200 [00:13<00:02, 13.20it/s]"
     ]
    },
    {
     "name": "stdout",
     "output_type": "stream",
     "text": [
      "Epoch [172/100]  Discriminator Loss: 0.6768639087677002  Generator Loss: 0.657995343208313\n",
      "Epoch [173/100]  Discriminator Loss: 0.6792943477630615  Generator Loss: 0.6592403650283813\n",
      "Epoch [174/100]  Discriminator Loss: 0.6761516332626343  Generator Loss: 0.6550512909889221\n"
     ]
    },
    {
     "name": "stderr",
     "output_type": "stream",
     "text": [
      " 88%|████████▊ | 177/200 [00:13<00:01, 13.57it/s]"
     ]
    },
    {
     "name": "stdout",
     "output_type": "stream",
     "text": [
      "Epoch [175/100]  Discriminator Loss: 0.6652061939239502  Generator Loss: 0.6568090915679932\n",
      "Epoch [176/100]  Discriminator Loss: 0.6746886968612671  Generator Loss: 0.6560888290405273\n",
      "Epoch [177/100]  Discriminator Loss: 0.6715290546417236  Generator Loss: 0.6604963541030884\n"
     ]
    },
    {
     "name": "stderr",
     "output_type": "stream",
     "text": [
      " 90%|████████▉ | 179/200 [00:14<00:01, 13.41it/s]"
     ]
    },
    {
     "name": "stdout",
     "output_type": "stream",
     "text": [
      "Epoch [178/100]  Discriminator Loss: 0.6707967519760132  Generator Loss: 0.6547648906707764\n",
      "Epoch [179/100]  Discriminator Loss: 0.673856258392334  Generator Loss: 0.6591691374778748\n",
      "Epoch [180/100]  Discriminator Loss: 0.6748690605163574  Generator Loss: 0.6585424542427063\n"
     ]
    },
    {
     "name": "stderr",
     "output_type": "stream",
     "text": [
      " 92%|█████████▏| 183/200 [00:14<00:01, 12.90it/s]"
     ]
    },
    {
     "name": "stdout",
     "output_type": "stream",
     "text": [
      "Epoch [181/100]  Discriminator Loss: 0.6756165027618408  Generator Loss: 0.65867680311203\n",
      "Epoch [182/100]  Discriminator Loss: 0.6757941842079163  Generator Loss: 0.6567482948303223\n",
      "Epoch [183/100]  Discriminator Loss: 0.6716451644897461  Generator Loss: 0.6591513752937317\n"
     ]
    },
    {
     "name": "stderr",
     "output_type": "stream",
     "text": [
      " 92%|█████████▎| 185/200 [00:14<00:01, 12.80it/s]"
     ]
    },
    {
     "name": "stdout",
     "output_type": "stream",
     "text": [
      "Epoch [184/100]  Discriminator Loss: 0.6786714196205139  Generator Loss: 0.658197283744812\n",
      "Epoch [185/100]  Discriminator Loss: 0.6767632961273193  Generator Loss: 0.6589934825897217\n",
      "Epoch [186/100]  Discriminator Loss: 0.6710524559020996  Generator Loss: 0.6561050415039062\n"
     ]
    },
    {
     "name": "stderr",
     "output_type": "stream",
     "text": [
      " 94%|█████████▍| 189/200 [00:14<00:00, 12.90it/s]"
     ]
    },
    {
     "name": "stdout",
     "output_type": "stream",
     "text": [
      "Epoch [187/100]  Discriminator Loss: 0.6679006218910217  Generator Loss: 0.6575107574462891\n",
      "Epoch [188/100]  Discriminator Loss: 0.6739723682403564  Generator Loss: 0.661113440990448\n",
      "Epoch [189/100]  Discriminator Loss: 0.6758383512496948  Generator Loss: 0.656156599521637\n"
     ]
    },
    {
     "name": "stderr",
     "output_type": "stream",
     "text": [
      " 96%|█████████▌| 191/200 [00:15<00:00, 13.00it/s]"
     ]
    },
    {
     "name": "stdout",
     "output_type": "stream",
     "text": [
      "Epoch [190/100]  Discriminator Loss: 0.6737942099571228  Generator Loss: 0.6573296189308167\n",
      "Epoch [191/100]  Discriminator Loss: 0.6669345498085022  Generator Loss: 0.6578634977340698\n",
      "Epoch [192/100]  Discriminator Loss: 0.6811050772666931  Generator Loss: 0.6567382216453552\n"
     ]
    },
    {
     "name": "stderr",
     "output_type": "stream",
     "text": [
      " 98%|█████████▊| 195/200 [00:15<00:00, 12.53it/s]"
     ]
    },
    {
     "name": "stdout",
     "output_type": "stream",
     "text": [
      "Epoch [193/100]  Discriminator Loss: 0.6625342965126038  Generator Loss: 0.6524641513824463\n",
      "Epoch [194/100]  Discriminator Loss: 0.678993821144104  Generator Loss: 0.6566876769065857\n",
      "Epoch [195/100]  Discriminator Loss: 0.6722067594528198  Generator Loss: 0.6552760601043701\n"
     ]
    },
    {
     "name": "stderr",
     "output_type": "stream",
     "text": [
      " 98%|█████████▊| 197/200 [00:15<00:00, 12.79it/s]"
     ]
    },
    {
     "name": "stdout",
     "output_type": "stream",
     "text": [
      "Epoch [196/100]  Discriminator Loss: 0.6754208207130432  Generator Loss: 0.6547907590866089\n",
      "Epoch [197/100]  Discriminator Loss: 0.6785515546798706  Generator Loss: 0.6561905741691589\n",
      "Epoch [198/100]  Discriminator Loss: 0.6769469976425171  Generator Loss: 0.655855655670166\n"
     ]
    },
    {
     "name": "stderr",
     "output_type": "stream",
     "text": [
      "100%|██████████| 200/200 [00:15<00:00, 12.73it/s]"
     ]
    },
    {
     "name": "stdout",
     "output_type": "stream",
     "text": [
      "Epoch [199/100]  Discriminator Loss: 0.6768238544464111  Generator Loss: 0.6564100980758667\n",
      "Epoch [200/100]  Discriminator Loss: 0.6758249998092651  Generator Loss: 0.6588404774665833\n"
     ]
    },
    {
     "name": "stderr",
     "output_type": "stream",
     "text": [
      "\n"
     ]
    }
   ],
   "source": [
    "# Training loop\n",
    "adversarial_loss = F.mse_loss\n",
    "adversarial_loss = nn.BCELoss()\n",
    "batch_size_noise = 256\n",
    "for epoch in tqdm(range(200)):\n",
    "    z1 = cauchy_dist.sample([batch_size_noise, 1])\n",
    "    z1 = z1.to(device)\n",
    "    #z2 = cauchy_dist.sample([1])\n",
    "    # valid = torch.ones(batch_size_noise, 1, device=device)\n",
    "    # fake = torch.zeros(batch_size_noise, 1, device=device)\n",
    "\n",
    "    valid = Variable(torch.FloatTensor(batch_size_noise, 1).fill_(1.0), requires_grad=False)\n",
    "    fake = Variable(torch.FloatTensor(batch_size_noise, 1).fill_(0.0), requires_grad=False)\n",
    "\n",
    "    # Generate fake data\n",
    "    #fake_main = main_gen(price)\n",
    "    fake_noise = noise_gen(torch.rand([batch_size_noise, 1]))\n",
    "    \n",
    "    optimizer_NG.zero_grad()\n",
    "    g_loss = adversarial_loss(noise_disc(fake_noise), valid)\n",
    "    g_loss.backward()\n",
    "    optimizer_NG.step()\n",
    "    \n",
    "    # Train generator\n",
    "    optimizer_ND.zero_grad()\n",
    "    \n",
    "    valid_d_loss = adversarial_loss(noise_disc(z1), valid)\n",
    "    fake_d_loss = adversarial_loss(noise_disc(fake_noise.detach()), fake)\n",
    "    \n",
    "    d_loss = (fake_d_loss + valid_d_loss) / 2\n",
    "    d_loss.backward()\n",
    "    optimizer_ND.step()\n",
    "\n",
    "\n",
    "    optim_ng_sched.step()\n",
    "    optim_nd_sched.step()\n",
    "\n",
    "    print(f\"Epoch [{epoch+1}/{num_epochs}]  Discriminator Loss: {d_loss.item()}  Generator Loss: {g_loss.item()}\")\n",
    "    experiment.log_metric('Noise Generator\\Whole Train', g_loss.item(), step=epoch)\n",
    "    experiment.log_metric('Noise Discriminator\\Whole Train', d_loss.item(), step=epoch)\n"
   ]
  },
  {
   "cell_type": "code",
   "execution_count": 43,
   "metadata": {},
   "outputs": [
    {
     "name": "stderr",
     "output_type": "stream",
     "text": [
      "  1%|          | 1/100 [00:14<24:18, 14.74s/it]"
     ]
    },
    {
     "name": "stdout",
     "output_type": "stream",
     "text": [
      "Epoch [1/100]  Discriminator Loss: -18.69125396706337  Generator Loss: 4.244126149142782\n"
     ]
    },
    {
     "name": "stderr",
     "output_type": "stream",
     "text": [
      "  2%|▏         | 2/100 [00:29<23:48, 14.58s/it]"
     ]
    },
    {
     "name": "stdout",
     "output_type": "stream",
     "text": [
      "Epoch [2/100]  Discriminator Loss: -90.52005617008653  Generator Loss: 18.4551543129815\n"
     ]
    },
    {
     "name": "stderr",
     "output_type": "stream",
     "text": [
      "  3%|▎         | 3/100 [00:43<23:24, 14.48s/it]"
     ]
    },
    {
     "name": "stdout",
     "output_type": "stream",
     "text": [
      "Epoch [3/100]  Discriminator Loss: -97.90010616391204  Generator Loss: 20.842787742614746\n"
     ]
    },
    {
     "name": "stderr",
     "output_type": "stream",
     "text": [
      "  4%|▍         | 4/100 [00:57<23:05, 14.43s/it]"
     ]
    },
    {
     "name": "stdout",
     "output_type": "stream",
     "text": [
      "Epoch [4/100]  Discriminator Loss: -97.09818214593932  Generator Loss: 21.062395307752823\n"
     ]
    },
    {
     "name": "stderr",
     "output_type": "stream",
     "text": [
      "  5%|▌         | 5/100 [01:13<23:14, 14.68s/it]"
     ]
    },
    {
     "name": "stdout",
     "output_type": "stream",
     "text": [
      "Epoch [5/100]  Discriminator Loss: -101.31520812455997  Generator Loss: 21.087815708584255\n"
     ]
    },
    {
     "name": "stderr",
     "output_type": "stream",
     "text": [
      "  6%|▌         | 6/100 [01:27<22:50, 14.58s/it]"
     ]
    },
    {
     "name": "stdout",
     "output_type": "stream",
     "text": [
      "Epoch [6/100]  Discriminator Loss: -99.45388434654059  Generator Loss: 21.08766969045003\n"
     ]
    },
    {
     "name": "stderr",
     "output_type": "stream",
     "text": [
      "  7%|▋         | 7/100 [01:41<22:30, 14.52s/it]"
     ]
    },
    {
     "name": "stdout",
     "output_type": "stream",
     "text": [
      "Epoch [7/100]  Discriminator Loss: -97.85151570342308  Generator Loss: 21.06952804989285\n"
     ]
    },
    {
     "name": "stderr",
     "output_type": "stream",
     "text": [
      "  8%|▊         | 8/100 [01:56<22:15, 14.51s/it]"
     ]
    },
    {
     "name": "stdout",
     "output_type": "stream",
     "text": [
      "Epoch [8/100]  Discriminator Loss: -100.98581008023994  Generator Loss: 21.080931769476997\n"
     ]
    },
    {
     "name": "stderr",
     "output_type": "stream",
     "text": [
      "  9%|▉         | 9/100 [02:10<21:59, 14.50s/it]"
     ]
    },
    {
     "name": "stdout",
     "output_type": "stream",
     "text": [
      "Epoch [9/100]  Discriminator Loss: -98.2939839030421  Generator Loss: 21.090342415703667\n"
     ]
    },
    {
     "name": "stderr",
     "output_type": "stream",
     "text": [
      " 10%|█         | 10/100 [02:24<21:35, 14.39s/it]"
     ]
    },
    {
     "name": "stdout",
     "output_type": "stream",
     "text": [
      "Epoch [10/100]  Discriminator Loss: -99.83304196734761  Generator Loss: 21.080306159125435\n"
     ]
    },
    {
     "name": "stderr",
     "output_type": "stream",
     "text": [
      " 11%|█         | 11/100 [02:39<21:24, 14.43s/it]"
     ]
    },
    {
     "name": "stdout",
     "output_type": "stream",
     "text": [
      "Epoch [11/100]  Discriminator Loss: -101.30924561966297  Generator Loss: 21.085065629747177\n"
     ]
    },
    {
     "name": "stderr",
     "output_type": "stream",
     "text": [
      " 12%|█▏        | 12/100 [02:53<21:08, 14.41s/it]"
     ]
    },
    {
     "name": "stdout",
     "output_type": "stream",
     "text": [
      "Epoch [12/100]  Discriminator Loss: -96.96240930779035  Generator Loss: 21.061680263943142\n"
     ]
    },
    {
     "name": "stderr",
     "output_type": "stream",
     "text": [
      " 13%|█▎        | 13/100 [03:08<20:52, 14.39s/it]"
     ]
    },
    {
     "name": "stdout",
     "output_type": "stream",
     "text": [
      "Epoch [13/100]  Discriminator Loss: -96.20625198719114  Generator Loss: 21.05771319071452\n"
     ]
    },
    {
     "name": "stderr",
     "output_type": "stream",
     "text": [
      " 14%|█▍        | 14/100 [03:22<20:35, 14.36s/it]"
     ]
    },
    {
     "name": "stdout",
     "output_type": "stream",
     "text": [
      "Epoch [14/100]  Discriminator Loss: -95.9847412109375  Generator Loss: 21.0687960518731\n"
     ]
    },
    {
     "name": "stderr",
     "output_type": "stream",
     "text": [
      " 15%|█▌        | 15/100 [03:36<20:16, 14.31s/it]"
     ]
    },
    {
     "name": "stdout",
     "output_type": "stream",
     "text": [
      "Epoch [15/100]  Discriminator Loss: -97.92908477783203  Generator Loss: 21.09199619293213\n"
     ]
    },
    {
     "name": "stderr",
     "output_type": "stream",
     "text": [
      " 16%|█▌        | 16/100 [03:50<20:00, 14.29s/it]"
     ]
    },
    {
     "name": "stdout",
     "output_type": "stream",
     "text": [
      "Epoch [16/100]  Discriminator Loss: -98.41540474115416  Generator Loss: 21.105141321818035\n"
     ]
    },
    {
     "name": "stderr",
     "output_type": "stream",
     "text": [
      " 17%|█▋        | 17/100 [04:05<19:49, 14.34s/it]"
     ]
    },
    {
     "name": "stdout",
     "output_type": "stream",
     "text": [
      "Epoch [17/100]  Discriminator Loss: -99.2537113455839  Generator Loss: 21.074617385864258\n"
     ]
    },
    {
     "name": "stderr",
     "output_type": "stream",
     "text": [
      " 18%|█▊        | 18/100 [04:19<19:35, 14.34s/it]"
     ]
    },
    {
     "name": "stdout",
     "output_type": "stream",
     "text": [
      "Epoch [18/100]  Discriminator Loss: -95.50345318816429  Generator Loss: 21.070032755533855\n"
     ]
    },
    {
     "name": "stderr",
     "output_type": "stream",
     "text": [
      " 19%|█▉        | 19/100 [04:34<19:24, 14.37s/it]"
     ]
    },
    {
     "name": "stdout",
     "output_type": "stream",
     "text": [
      "Epoch [19/100]  Discriminator Loss: -98.46696951222974  Generator Loss: 21.092706362406414\n"
     ]
    },
    {
     "name": "stderr",
     "output_type": "stream",
     "text": [
      " 20%|██        | 20/100 [04:48<19:07, 14.34s/it]"
     ]
    },
    {
     "name": "stdout",
     "output_type": "stream",
     "text": [
      "Epoch [20/100]  Discriminator Loss: -99.84112078644509  Generator Loss: 21.07818338606093\n"
     ]
    },
    {
     "name": "stderr",
     "output_type": "stream",
     "text": [
      " 21%|██        | 21/100 [05:03<19:06, 14.51s/it]"
     ]
    },
    {
     "name": "stdout",
     "output_type": "stream",
     "text": [
      "Epoch [21/100]  Discriminator Loss: -97.58265002938204  Generator Loss: 21.080395168728298\n"
     ]
    },
    {
     "name": "stderr",
     "output_type": "stream",
     "text": [
      " 22%|██▏       | 22/100 [05:18<19:07, 14.71s/it]"
     ]
    },
    {
     "name": "stdout",
     "output_type": "stream",
     "text": [
      "Epoch [22/100]  Discriminator Loss: -97.01836772297703  Generator Loss: 21.08395947350396\n"
     ]
    },
    {
     "name": "stderr",
     "output_type": "stream",
     "text": [
      " 23%|██▎       | 23/100 [05:33<18:52, 14.71s/it]"
     ]
    },
    {
     "name": "stdout",
     "output_type": "stream",
     "text": [
      "Epoch [23/100]  Discriminator Loss: -99.6034427021825  Generator Loss: 21.101295895046658\n"
     ]
    },
    {
     "name": "stderr",
     "output_type": "stream",
     "text": [
      " 24%|██▍       | 24/100 [05:47<18:30, 14.61s/it]"
     ]
    },
    {
     "name": "stdout",
     "output_type": "stream",
     "text": [
      "Epoch [24/100]  Discriminator Loss: -98.69104531753895  Generator Loss: 21.0851534737481\n"
     ]
    },
    {
     "name": "stderr",
     "output_type": "stream",
     "text": [
      " 25%|██▌       | 25/100 [06:02<18:12, 14.57s/it]"
     ]
    },
    {
     "name": "stdout",
     "output_type": "stream",
     "text": [
      "Epoch [25/100]  Discriminator Loss: -98.18686715946642  Generator Loss: 21.082993083530003\n"
     ]
    },
    {
     "name": "stderr",
     "output_type": "stream",
     "text": [
      " 26%|██▌       | 26/100 [06:16<17:55, 14.53s/it]"
     ]
    },
    {
     "name": "stdout",
     "output_type": "stream",
     "text": [
      "Epoch [26/100]  Discriminator Loss: -100.37115367623262  Generator Loss: 21.08452245924208\n"
     ]
    },
    {
     "name": "stderr",
     "output_type": "stream",
     "text": [
      " 27%|██▋       | 27/100 [06:31<17:52, 14.70s/it]"
     ]
    },
    {
     "name": "stdout",
     "output_type": "stream",
     "text": [
      "Epoch [27/100]  Discriminator Loss: -100.11062488999478  Generator Loss: 21.08047326405843\n"
     ]
    },
    {
     "name": "stderr",
     "output_type": "stream",
     "text": [
      " 28%|██▊       | 28/100 [06:46<17:43, 14.77s/it]"
     ]
    },
    {
     "name": "stdout",
     "output_type": "stream",
     "text": [
      "Epoch [28/100]  Discriminator Loss: -98.72195208349893  Generator Loss: 21.0957645840115\n"
     ]
    },
    {
     "name": "stderr",
     "output_type": "stream",
     "text": [
      " 29%|██▉       | 29/100 [07:01<17:35, 14.87s/it]"
     ]
    },
    {
     "name": "stdout",
     "output_type": "stream",
     "text": [
      "Epoch [29/100]  Discriminator Loss: -95.8450918862986  Generator Loss: 21.102133221096462\n"
     ]
    },
    {
     "name": "stderr",
     "output_type": "stream",
     "text": [
      " 30%|███       | 30/100 [07:16<17:25, 14.94s/it]"
     ]
    },
    {
     "name": "stdout",
     "output_type": "stream",
     "text": [
      "Epoch [30/100]  Discriminator Loss: -98.9079554358194  Generator Loss: 21.07819112141927\n"
     ]
    },
    {
     "name": "stderr",
     "output_type": "stream",
     "text": [
      " 31%|███       | 31/100 [07:31<17:13, 14.97s/it]"
     ]
    },
    {
     "name": "stdout",
     "output_type": "stream",
     "text": [
      "Epoch [31/100]  Discriminator Loss: -96.39892591432084  Generator Loss: 21.076896985371906\n"
     ]
    },
    {
     "name": "stderr",
     "output_type": "stream",
     "text": [
      " 32%|███▏      | 32/100 [07:47<17:05, 15.08s/it]"
     ]
    },
    {
     "name": "stdout",
     "output_type": "stream",
     "text": [
      "Epoch [32/100]  Discriminator Loss: -97.19416001785633  Generator Loss: 21.08845403459337\n"
     ]
    },
    {
     "name": "stderr",
     "output_type": "stream",
     "text": [
      " 33%|███▎      | 33/100 [08:02<17:03, 15.28s/it]"
     ]
    },
    {
     "name": "stdout",
     "output_type": "stream",
     "text": [
      "Epoch [33/100]  Discriminator Loss: -94.3529500739519  Generator Loss: 21.06875165303548\n"
     ]
    },
    {
     "name": "stderr",
     "output_type": "stream",
     "text": [
      " 34%|███▍      | 34/100 [08:18<17:01, 15.48s/it]"
     ]
    },
    {
     "name": "stdout",
     "output_type": "stream",
     "text": [
      "Epoch [34/100]  Discriminator Loss: -97.84315841142521  Generator Loss: 21.08980433146159\n"
     ]
    },
    {
     "name": "stderr",
     "output_type": "stream",
     "text": [
      " 35%|███▌      | 35/100 [08:34<16:57, 15.66s/it]"
     ]
    },
    {
     "name": "stdout",
     "output_type": "stream",
     "text": [
      "Epoch [35/100]  Discriminator Loss: -95.44953599087027  Generator Loss: 21.099801805284287\n"
     ]
    },
    {
     "name": "stderr",
     "output_type": "stream",
     "text": [
      " 36%|███▌      | 36/100 [08:50<16:50, 15.79s/it]"
     ]
    },
    {
     "name": "stdout",
     "output_type": "stream",
     "text": [
      "Epoch [36/100]  Discriminator Loss: -98.30269902251487  Generator Loss: 21.079457177056206\n"
     ]
    },
    {
     "name": "stderr",
     "output_type": "stream",
     "text": [
      " 37%|███▋      | 37/100 [09:07<16:39, 15.86s/it]"
     ]
    },
    {
     "name": "stdout",
     "output_type": "stream",
     "text": [
      "Epoch [37/100]  Discriminator Loss: -97.99685651202535  Generator Loss: 21.087072796291775\n"
     ]
    },
    {
     "name": "stderr",
     "output_type": "stream",
     "text": [
      " 38%|███▊      | 38/100 [09:23<16:28, 15.94s/it]"
     ]
    },
    {
     "name": "stdout",
     "output_type": "stream",
     "text": [
      "Epoch [38/100]  Discriminator Loss: -95.3059612983881  Generator Loss: 21.081052992078995\n"
     ]
    },
    {
     "name": "stderr",
     "output_type": "stream",
     "text": [
      " 39%|███▉      | 39/100 [09:39<16:14, 15.98s/it]"
     ]
    },
    {
     "name": "stdout",
     "output_type": "stream",
     "text": [
      "Epoch [39/100]  Discriminator Loss: -96.41211771410565  Generator Loss: 21.082894219292534\n"
     ]
    },
    {
     "name": "stderr",
     "output_type": "stream",
     "text": [
      " 40%|████      | 40/100 [09:55<15:58, 15.97s/it]"
     ]
    },
    {
     "name": "stdout",
     "output_type": "stream",
     "text": [
      "Epoch [40/100]  Discriminator Loss: -96.93389803864235  Generator Loss: 21.077875031365288\n"
     ]
    },
    {
     "name": "stderr",
     "output_type": "stream",
     "text": [
      " 41%|████      | 41/100 [10:11<15:40, 15.93s/it]"
     ]
    },
    {
     "name": "stdout",
     "output_type": "stream",
     "text": [
      "Epoch [41/100]  Discriminator Loss: -102.34347764835802  Generator Loss: 21.100545671251083\n"
     ]
    },
    {
     "name": "stderr",
     "output_type": "stream",
     "text": [
      " 42%|████▏     | 42/100 [10:27<15:25, 15.96s/it]"
     ]
    },
    {
     "name": "stdout",
     "output_type": "stream",
     "text": [
      "Epoch [42/100]  Discriminator Loss: -97.92616813127384  Generator Loss: 21.095901489257812\n"
     ]
    },
    {
     "name": "stderr",
     "output_type": "stream",
     "text": [
      " 43%|████▎     | 43/100 [10:41<14:42, 15.48s/it]"
     ]
    },
    {
     "name": "stdout",
     "output_type": "stream",
     "text": [
      "Epoch [43/100]  Discriminator Loss: -100.05187429383744  Generator Loss: 21.080487993028427\n"
     ]
    },
    {
     "name": "stderr",
     "output_type": "stream",
     "text": [
      " 44%|████▍     | 44/100 [10:55<14:08, 15.15s/it]"
     ]
    },
    {
     "name": "stdout",
     "output_type": "stream",
     "text": [
      "Epoch [44/100]  Discriminator Loss: -102.03058668624523  Generator Loss: 21.076991822984482\n"
     ]
    },
    {
     "name": "stderr",
     "output_type": "stream",
     "text": [
      " 45%|████▌     | 45/100 [11:10<13:42, 14.96s/it]"
     ]
    },
    {
     "name": "stdout",
     "output_type": "stream",
     "text": [
      "Epoch [45/100]  Discriminator Loss: -99.4063237212425  Generator Loss: 21.089786423577202\n"
     ]
    },
    {
     "name": "stderr",
     "output_type": "stream",
     "text": [
      " 46%|████▌     | 46/100 [11:24<13:15, 14.73s/it]"
     ]
    },
    {
     "name": "stdout",
     "output_type": "stream",
     "text": [
      "Epoch [46/100]  Discriminator Loss: -98.53022708449252  Generator Loss: 21.095502641465927\n"
     ]
    },
    {
     "name": "stderr",
     "output_type": "stream",
     "text": [
      " 47%|████▋     | 47/100 [11:38<12:53, 14.60s/it]"
     ]
    },
    {
     "name": "stdout",
     "output_type": "stream",
     "text": [
      "Epoch [47/100]  Discriminator Loss: -97.78114975330442  Generator Loss: 21.082393964131672\n"
     ]
    },
    {
     "name": "stderr",
     "output_type": "stream",
     "text": [
      " 48%|████▊     | 48/100 [11:52<12:31, 14.46s/it]"
     ]
    },
    {
     "name": "stdout",
     "output_type": "stream",
     "text": [
      "Epoch [48/100]  Discriminator Loss: -95.23947507281636  Generator Loss: 21.077018207973904\n"
     ]
    },
    {
     "name": "stderr",
     "output_type": "stream",
     "text": [
      " 49%|████▉     | 49/100 [12:07<12:17, 14.46s/it]"
     ]
    },
    {
     "name": "stdout",
     "output_type": "stream",
     "text": [
      "Epoch [49/100]  Discriminator Loss: -96.25556298189385  Generator Loss: 21.099175665113663\n"
     ]
    },
    {
     "name": "stderr",
     "output_type": "stream",
     "text": [
      " 50%|█████     | 50/100 [12:21<12:00, 14.41s/it]"
     ]
    },
    {
     "name": "stdout",
     "output_type": "stream",
     "text": [
      "Epoch [50/100]  Discriminator Loss: -95.48173806833667  Generator Loss: 21.08685631222195\n"
     ]
    },
    {
     "name": "stderr",
     "output_type": "stream",
     "text": [
      " 51%|█████     | 51/100 [12:36<11:45, 14.40s/it]"
     ]
    },
    {
     "name": "stdout",
     "output_type": "stream",
     "text": [
      "Epoch [51/100]  Discriminator Loss: -99.6680582623149  Generator Loss: 21.074054718017578\n"
     ]
    },
    {
     "name": "stderr",
     "output_type": "stream",
     "text": [
      " 52%|█████▏    | 52/100 [12:50<11:30, 14.38s/it]"
     ]
    },
    {
     "name": "stdout",
     "output_type": "stream",
     "text": [
      "Epoch [52/100]  Discriminator Loss: -100.11223970457564  Generator Loss: 21.105160183376736\n"
     ]
    },
    {
     "name": "stderr",
     "output_type": "stream",
     "text": [
      " 53%|█████▎    | 53/100 [13:04<11:12, 14.31s/it]"
     ]
    },
    {
     "name": "stdout",
     "output_type": "stream",
     "text": [
      "Epoch [53/100]  Discriminator Loss: -97.31122939531193  Generator Loss: 21.06683455573188\n"
     ]
    },
    {
     "name": "stderr",
     "output_type": "stream",
     "text": [
      " 54%|█████▍    | 54/100 [13:18<10:59, 14.34s/it]"
     ]
    },
    {
     "name": "stdout",
     "output_type": "stream",
     "text": [
      "Epoch [54/100]  Discriminator Loss: -96.43133207809093  Generator Loss: 21.0931330786811\n"
     ]
    },
    {
     "name": "stderr",
     "output_type": "stream",
     "text": [
      " 55%|█████▌    | 55/100 [13:33<10:45, 14.35s/it]"
     ]
    },
    {
     "name": "stdout",
     "output_type": "stream",
     "text": [
      "Epoch [55/100]  Discriminator Loss: -99.34041799500932  Generator Loss: 21.08237181769477\n"
     ]
    },
    {
     "name": "stderr",
     "output_type": "stream",
     "text": [
      " 56%|█████▌    | 56/100 [13:47<10:28, 14.29s/it]"
     ]
    },
    {
     "name": "stdout",
     "output_type": "stream",
     "text": [
      "Epoch [56/100]  Discriminator Loss: -100.69310121758039  Generator Loss: 21.094210730658638\n"
     ]
    },
    {
     "name": "stderr",
     "output_type": "stream",
     "text": [
      " 57%|█████▋    | 57/100 [14:01<10:14, 14.28s/it]"
     ]
    },
    {
     "name": "stdout",
     "output_type": "stream",
     "text": [
      "Epoch [57/100]  Discriminator Loss: -101.41323267027389  Generator Loss: 21.079040739271377\n"
     ]
    },
    {
     "name": "stderr",
     "output_type": "stream",
     "text": [
      " 58%|█████▊    | 58/100 [14:15<09:58, 14.24s/it]"
     ]
    },
    {
     "name": "stdout",
     "output_type": "stream",
     "text": [
      "Epoch [58/100]  Discriminator Loss: -96.7483173636503  Generator Loss: 21.09031867980957\n"
     ]
    },
    {
     "name": "stderr",
     "output_type": "stream",
     "text": [
      " 59%|█████▉    | 59/100 [14:30<09:42, 14.22s/it]"
     ]
    },
    {
     "name": "stdout",
     "output_type": "stream",
     "text": [
      "Epoch [59/100]  Discriminator Loss: -94.22830803449764  Generator Loss: 21.073927243550617\n"
     ]
    },
    {
     "name": "stderr",
     "output_type": "stream",
     "text": [
      " 60%|██████    | 60/100 [14:44<09:26, 14.16s/it]"
     ]
    },
    {
     "name": "stdout",
     "output_type": "stream",
     "text": [
      "Epoch [60/100]  Discriminator Loss: -96.82077904634697  Generator Loss: 21.10739146338569\n"
     ]
    },
    {
     "name": "stderr",
     "output_type": "stream",
     "text": [
      " 61%|██████    | 61/100 [14:58<09:10, 14.10s/it]"
     ]
    },
    {
     "name": "stdout",
     "output_type": "stream",
     "text": [
      "Epoch [61/100]  Discriminator Loss: -96.75438539371935  Generator Loss: 21.082381884257\n"
     ]
    },
    {
     "name": "stderr",
     "output_type": "stream",
     "text": [
      " 62%|██████▏   | 62/100 [15:12<08:58, 14.18s/it]"
     ]
    },
    {
     "name": "stdout",
     "output_type": "stream",
     "text": [
      "Epoch [62/100]  Discriminator Loss: -97.77609900541084  Generator Loss: 21.08193037245009\n"
     ]
    },
    {
     "name": "stderr",
     "output_type": "stream",
     "text": [
      " 63%|██████▎   | 63/100 [15:26<08:45, 14.20s/it]"
     ]
    },
    {
     "name": "stdout",
     "output_type": "stream",
     "text": [
      "Epoch [63/100]  Discriminator Loss: -96.23133273457371  Generator Loss: 21.1083435482449\n"
     ]
    },
    {
     "name": "stderr",
     "output_type": "stream",
     "text": [
      " 64%|██████▍   | 64/100 [15:40<08:32, 14.23s/it]"
     ]
    },
    {
     "name": "stdout",
     "output_type": "stream",
     "text": [
      "Epoch [64/100]  Discriminator Loss: -97.3291613556618  Generator Loss: 21.09324116177029\n"
     ]
    },
    {
     "name": "stderr",
     "output_type": "stream",
     "text": [
      " 65%|██████▌   | 65/100 [15:55<08:19, 14.28s/it]"
     ]
    },
    {
     "name": "stdout",
     "output_type": "stream",
     "text": [
      "Epoch [65/100]  Discriminator Loss: -99.22163808068564  Generator Loss: 21.105391926235622\n"
     ]
    },
    {
     "name": "stderr",
     "output_type": "stream",
     "text": [
      " 66%|██████▌   | 66/100 [16:09<08:06, 14.30s/it]"
     ]
    },
    {
     "name": "stdout",
     "output_type": "stream",
     "text": [
      "Epoch [66/100]  Discriminator Loss: -101.46995287163313  Generator Loss: 21.05834568871392\n"
     ]
    },
    {
     "name": "stderr",
     "output_type": "stream",
     "text": [
      " 67%|██████▋   | 67/100 [16:23<07:50, 14.25s/it]"
     ]
    },
    {
     "name": "stdout",
     "output_type": "stream",
     "text": [
      "Epoch [67/100]  Discriminator Loss: -93.75268270803052  Generator Loss: 21.068741904364693\n"
     ]
    },
    {
     "name": "stderr",
     "output_type": "stream",
     "text": [
      " 68%|██████▊   | 68/100 [16:38<07:37, 14.29s/it]"
     ]
    },
    {
     "name": "stdout",
     "output_type": "stream",
     "text": [
      "Epoch [68/100]  Discriminator Loss: -96.78304548041766  Generator Loss: 21.097249878777397\n"
     ]
    },
    {
     "name": "stderr",
     "output_type": "stream",
     "text": [
      " 69%|██████▉   | 69/100 [16:52<07:19, 14.18s/it]"
     ]
    },
    {
     "name": "stdout",
     "output_type": "stream",
     "text": [
      "Epoch [69/100]  Discriminator Loss: -98.6435701680738  Generator Loss: 21.077718628777397\n"
     ]
    },
    {
     "name": "stderr",
     "output_type": "stream",
     "text": [
      " 70%|███████   | 70/100 [17:06<07:05, 14.19s/it]"
     ]
    },
    {
     "name": "stdout",
     "output_type": "stream",
     "text": [
      "Epoch [70/100]  Discriminator Loss: -96.28591635060864  Generator Loss: 21.069082260131836\n"
     ]
    },
    {
     "name": "stderr",
     "output_type": "stream",
     "text": [
      " 71%|███████   | 71/100 [17:20<06:53, 14.26s/it]"
     ]
    },
    {
     "name": "stdout",
     "output_type": "stream",
     "text": [
      "Epoch [71/100]  Discriminator Loss: -100.48142499701922  Generator Loss: 21.084024005466038\n"
     ]
    },
    {
     "name": "stderr",
     "output_type": "stream",
     "text": [
      " 72%|███████▏  | 72/100 [17:34<06:39, 14.25s/it]"
     ]
    },
    {
     "name": "stdout",
     "output_type": "stream",
     "text": [
      "Epoch [72/100]  Discriminator Loss: -100.21063627198686  Generator Loss: 21.09285895029704\n"
     ]
    },
    {
     "name": "stderr",
     "output_type": "stream",
     "text": [
      " 73%|███████▎  | 73/100 [17:49<06:25, 14.27s/it]"
     ]
    },
    {
     "name": "stdout",
     "output_type": "stream",
     "text": [
      "Epoch [73/100]  Discriminator Loss: -101.73312830370526  Generator Loss: 21.073919190300835\n"
     ]
    },
    {
     "name": "stderr",
     "output_type": "stream",
     "text": [
      " 74%|███████▍  | 74/100 [18:03<06:08, 14.18s/it]"
     ]
    },
    {
     "name": "stdout",
     "output_type": "stream",
     "text": [
      "Epoch [74/100]  Discriminator Loss: -99.62313944794411  Generator Loss: 21.084671020507812\n"
     ]
    },
    {
     "name": "stderr",
     "output_type": "stream",
     "text": [
      " 75%|███████▌  | 75/100 [18:17<05:55, 14.21s/it]"
     ]
    },
    {
     "name": "stdout",
     "output_type": "stream",
     "text": [
      "Epoch [75/100]  Discriminator Loss: -97.39708665359852  Generator Loss: 21.084361288282608\n"
     ]
    },
    {
     "name": "stderr",
     "output_type": "stream",
     "text": [
      " 76%|███████▌  | 76/100 [18:31<05:41, 14.24s/it]"
     ]
    },
    {
     "name": "stdout",
     "output_type": "stream",
     "text": [
      "Epoch [76/100]  Discriminator Loss: -95.94911149490711  Generator Loss: 21.055528746710884\n"
     ]
    },
    {
     "name": "stderr",
     "output_type": "stream",
     "text": [
      " 77%|███████▋  | 77/100 [18:45<05:25, 14.17s/it]"
     ]
    },
    {
     "name": "stdout",
     "output_type": "stream",
     "text": [
      "Epoch [77/100]  Discriminator Loss: -99.87843016690987  Generator Loss: 21.087595409817165\n"
     ]
    },
    {
     "name": "stderr",
     "output_type": "stream",
     "text": [
      " 78%|███████▊  | 78/100 [19:00<05:14, 14.28s/it]"
     ]
    },
    {
     "name": "stdout",
     "output_type": "stream",
     "text": [
      "Epoch [78/100]  Discriminator Loss: -94.00447370839673  Generator Loss: 21.071458498636883\n"
     ]
    },
    {
     "name": "stderr",
     "output_type": "stream",
     "text": [
      " 79%|███████▉  | 79/100 [19:14<04:58, 14.23s/it]"
     ]
    },
    {
     "name": "stdout",
     "output_type": "stream",
     "text": [
      "Epoch [79/100]  Discriminator Loss: -97.51960825365643  Generator Loss: 21.107762548658584\n"
     ]
    },
    {
     "name": "stderr",
     "output_type": "stream",
     "text": [
      " 80%|████████  | 80/100 [19:28<04:43, 14.18s/it]"
     ]
    },
    {
     "name": "stdout",
     "output_type": "stream",
     "text": [
      "Epoch [80/100]  Discriminator Loss: -94.18818331873695  Generator Loss: 21.07662508222792\n"
     ]
    },
    {
     "name": "stderr",
     "output_type": "stream",
     "text": [
      " 81%|████████  | 81/100 [19:42<04:27, 14.07s/it]"
     ]
    },
    {
     "name": "stdout",
     "output_type": "stream",
     "text": [
      "Epoch [81/100]  Discriminator Loss: -96.70079989765965  Generator Loss: 21.068677584330242\n"
     ]
    },
    {
     "name": "stderr",
     "output_type": "stream",
     "text": [
      " 82%|████████▏ | 82/100 [19:56<04:14, 14.12s/it]"
     ]
    },
    {
     "name": "stdout",
     "output_type": "stream",
     "text": [
      "Epoch [82/100]  Discriminator Loss: -98.28327489453693  Generator Loss: 21.069464047749836\n"
     ]
    },
    {
     "name": "stderr",
     "output_type": "stream",
     "text": [
      " 83%|████████▎ | 83/100 [20:10<04:00, 14.16s/it]"
     ]
    },
    {
     "name": "stdout",
     "output_type": "stream",
     "text": [
      "Epoch [83/100]  Discriminator Loss: -97.85044749947481  Generator Loss: 21.0631619559394\n"
     ]
    },
    {
     "name": "stderr",
     "output_type": "stream",
     "text": [
      " 84%|████████▍ | 84/100 [20:25<03:46, 14.18s/it]"
     ]
    },
    {
     "name": "stdout",
     "output_type": "stream",
     "text": [
      "Epoch [84/100]  Discriminator Loss: -96.16520588896995  Generator Loss: 21.095116085476345\n"
     ]
    },
    {
     "name": "stderr",
     "output_type": "stream",
     "text": [
      " 85%|████████▌ | 85/100 [20:39<03:32, 14.16s/it]"
     ]
    },
    {
     "name": "stdout",
     "output_type": "stream",
     "text": [
      "Epoch [85/100]  Discriminator Loss: -93.76590671095737  Generator Loss: 21.076653480529785\n"
     ]
    },
    {
     "name": "stderr",
     "output_type": "stream",
     "text": [
      " 86%|████████▌ | 86/100 [20:53<03:19, 14.22s/it]"
     ]
    },
    {
     "name": "stdout",
     "output_type": "stream",
     "text": [
      "Epoch [86/100]  Discriminator Loss: -97.26244717974996  Generator Loss: 21.102321200900608\n"
     ]
    },
    {
     "name": "stderr",
     "output_type": "stream",
     "text": [
      " 87%|████████▋ | 87/100 [21:07<03:05, 14.24s/it]"
     ]
    },
    {
     "name": "stdout",
     "output_type": "stream",
     "text": [
      "Epoch [87/100]  Discriminator Loss: -96.857089907624  Generator Loss: 21.080881966484917\n"
     ]
    },
    {
     "name": "stderr",
     "output_type": "stream",
     "text": [
      " 88%|████████▊ | 88/100 [21:22<02:50, 14.24s/it]"
     ]
    },
    {
     "name": "stdout",
     "output_type": "stream",
     "text": [
      "Epoch [88/100]  Discriminator Loss: -97.52326286670774  Generator Loss: 21.10713005065918\n"
     ]
    },
    {
     "name": "stderr",
     "output_type": "stream",
     "text": [
      " 89%|████████▉ | 89/100 [21:36<02:36, 14.22s/it]"
     ]
    },
    {
     "name": "stdout",
     "output_type": "stream",
     "text": [
      "Epoch [89/100]  Discriminator Loss: -95.79935504114906  Generator Loss: 21.09188111623128\n"
     ]
    },
    {
     "name": "stderr",
     "output_type": "stream",
     "text": [
      " 90%|█████████ | 90/100 [21:50<02:22, 14.27s/it]"
     ]
    },
    {
     "name": "stdout",
     "output_type": "stream",
     "text": [
      "Epoch [90/100]  Discriminator Loss: -98.03420834208644  Generator Loss: 21.11188528272841\n"
     ]
    },
    {
     "name": "stderr",
     "output_type": "stream",
     "text": [
      " 91%|█████████ | 91/100 [22:04<02:08, 14.29s/it]"
     ]
    },
    {
     "name": "stdout",
     "output_type": "stream",
     "text": [
      "Epoch [91/100]  Discriminator Loss: -97.38489332864451  Generator Loss: 21.097428639729817\n"
     ]
    },
    {
     "name": "stderr",
     "output_type": "stream",
     "text": [
      " 92%|█████████▏| 92/100 [22:19<01:54, 14.33s/it]"
     ]
    },
    {
     "name": "stdout",
     "output_type": "stream",
     "text": [
      "Epoch [92/100]  Discriminator Loss: -96.26847227229628  Generator Loss: 21.06083318922255\n"
     ]
    },
    {
     "name": "stderr",
     "output_type": "stream",
     "text": [
      " 93%|█████████▎| 93/100 [22:33<01:40, 14.30s/it]"
     ]
    },
    {
     "name": "stdout",
     "output_type": "stream",
     "text": [
      "Epoch [93/100]  Discriminator Loss: -99.28278182273688  Generator Loss: 21.090051651000977\n"
     ]
    },
    {
     "name": "stderr",
     "output_type": "stream",
     "text": [
      " 94%|█████████▍| 94/100 [22:48<01:26, 14.42s/it]"
     ]
    },
    {
     "name": "stdout",
     "output_type": "stream",
     "text": [
      "Epoch [94/100]  Discriminator Loss: -97.30708259759948  Generator Loss: 21.080085012647842\n"
     ]
    },
    {
     "name": "stderr",
     "output_type": "stream",
     "text": [
      " 95%|█████████▌| 95/100 [23:02<01:12, 14.44s/it]"
     ]
    },
    {
     "name": "stdout",
     "output_type": "stream",
     "text": [
      "Epoch [95/100]  Discriminator Loss: -101.39260527145031  Generator Loss: 21.064010832044815\n"
     ]
    },
    {
     "name": "stderr",
     "output_type": "stream",
     "text": [
      " 96%|█████████▌| 96/100 [23:17<00:57, 14.41s/it]"
     ]
    },
    {
     "name": "stdout",
     "output_type": "stream",
     "text": [
      "Epoch [96/100]  Discriminator Loss: -98.36880187101143  Generator Loss: 21.093042585584854\n"
     ]
    },
    {
     "name": "stderr",
     "output_type": "stream",
     "text": [
      " 97%|█████████▋| 97/100 [23:31<00:43, 14.42s/it]"
     ]
    },
    {
     "name": "stdout",
     "output_type": "stream",
     "text": [
      "Epoch [97/100]  Discriminator Loss: -98.63651200227959  Generator Loss: 21.095533900790745\n"
     ]
    },
    {
     "name": "stderr",
     "output_type": "stream",
     "text": [
      " 98%|█████████▊| 98/100 [23:46<00:28, 14.45s/it]"
     ]
    },
    {
     "name": "stdout",
     "output_type": "stream",
     "text": [
      "Epoch [98/100]  Discriminator Loss: -94.48055063292037  Generator Loss: 21.08738719092475\n"
     ]
    },
    {
     "name": "stderr",
     "output_type": "stream",
     "text": [
      " 99%|█████████▉| 99/100 [24:00<00:14, 14.45s/it]"
     ]
    },
    {
     "name": "stdout",
     "output_type": "stream",
     "text": [
      "Epoch [99/100]  Discriminator Loss: -95.53514573740405  Generator Loss: 21.079591115315754\n"
     ]
    },
    {
     "name": "stderr",
     "output_type": "stream",
     "text": [
      "100%|██████████| 100/100 [24:15<00:00, 14.55s/it]"
     ]
    },
    {
     "name": "stdout",
     "output_type": "stream",
     "text": [
      "Epoch [100/100]  Discriminator Loss: -96.11769627415856  Generator Loss: 21.085384792751736\n"
     ]
    },
    {
     "name": "stderr",
     "output_type": "stream",
     "text": [
      "\n"
     ]
    }
   ],
   "source": [
    "# Training loop\n",
    "for epoch in tqdm(range(num_epochs)):\n",
    "    batch_start = 0\n",
    "    g_loss_list = []\n",
    "    noise_loss_list = []\n",
    "    d_loss_list = []\n",
    "    for idx in range(int(len(data)/batch_size)-1):\n",
    "        price = torch.tensor(data[batch_start:batch_start+batch_size].close.values, dtype=torch.float).reshape(batch_size,1)\n",
    "        #price = torch.tensor(random.sample(list(data[batch_start:batch_start+batch_size].close.values), batch_size), dtype=torch.float).reshape(batch_size,1)\n",
    "        price = price.to(device)\n",
    "        batch_start = batch_start + batch_size\n",
    "        # Generate random noise inputs\n",
    "        z1 = cauchy_dist.sample([batch_size, 1])\n",
    "        z1 = z1.to(device)\n",
    "        #z2 = cauchy_dist.sample([1])\n",
    "        # valid = torch.ones(batch_size, 1, device=device)\n",
    "        # fake = torch.zeros(batch_size, 1, device=device)\n",
    "\n",
    "        valid = Variable(torch.FloatTensor(batch_size, 1).fill_(1.0), requires_grad=False)\n",
    "        fake = Variable(torch.FloatTensor(batch_size, 1).fill_(0.0), requires_grad=False)\n",
    "        # Generate fake data\n",
    "        #fake_main = main_gen(price)\n",
    "        fake_main = main_gen(torch.rand([batch_size, 1]))\n",
    "        fake_noise = torch.zeros(batch_size, 1, device=device)\n",
    "        if random.uniform(0, 1) >= 0.5:\n",
    "            fake_noise = torch.clamp(noise_gen(torch.rand([batch_size, 1])), -0.5, -0.5)\n",
    "        #fake_data = fake_main + fake_noise\n",
    "        fake_data = fake_main\n",
    "        # Train disc\n",
    "        optimizer_D.zero_grad()\n",
    "\n",
    "        # Real images\n",
    "        real_validity = discriminator(price)\n",
    "        # Fake images\n",
    "        fake_validity = discriminator(fake_data)\n",
    "        # Gradient penalty\n",
    "        gradient_penalty = compute_gradient_penalty(discriminator, price, fake_data)\n",
    "        # Adversarial loss\n",
    "        d_loss = -torch.mean(real_validity) + torch.mean(fake_validity) + lambda_gp * gradient_penalty\n",
    "\n",
    "        d_loss.backward()\n",
    "        d_loss_list.append(d_loss.item())\n",
    "        optimizer_D.step()\n",
    "\n",
    "        optimizer_G.zero_grad()\n",
    "        # Train the generator every n_critic steps\n",
    "        if idx % n_critic == 0:\n",
    "\n",
    "            # -----------------\n",
    "            #  Train Generator\n",
    "            # -----------------\n",
    "\n",
    "            fake_main = main_gen(torch.rand([batch_size, 1]))\n",
    "            fake_noise = noise_gen(torch.rand([batch_size, 1]))\n",
    "            #fake_data = fake_main + fake_noise\n",
    "            fake_data = fake_main\n",
    "            # Loss measures generator's ability to fool the discriminator\n",
    "            # Train on fake data\n",
    "            fake_validity = discriminator(fake_data)\n",
    "            g_loss = -torch.mean(fake_validity)\n",
    "\n",
    "            g_loss.backward()\n",
    "            g_loss_list.append(g_loss.item())\n",
    "            optimizer_G.step()\n",
    "\n",
    "\n",
    "        \n",
    "\n",
    "    optim_g_sched.step()\n",
    "    optim_d_sched.step()\n",
    "    \n",
    "    print(f\"Epoch [{epoch+1}/{num_epochs}]  Discriminator Loss: {np.average(d_loss_list)}  Generator Loss: {np.average(g_loss_list)}\")\n",
    "    experiment.log_metric('Main Generator\\Whole Train', np.average(g_loss_list), step=epoch)\n",
    "    experiment.log_metric('Discriminator\\Whole Train', np.average(d_loss_list), step=epoch)\n"
   ]
  },
  {
   "cell_type": "code",
   "execution_count": 44,
   "metadata": {},
   "outputs": [
    {
     "name": "stderr",
     "output_type": "stream",
     "text": [
      "\u001b[1;38;5;39mCOMET INFO:\u001b[0m ---------------------------------------------------------------------------------------\n",
      "\u001b[1;38;5;39mCOMET INFO:\u001b[0m Comet.ml Experiment Summary\n",
      "\u001b[1;38;5;39mCOMET INFO:\u001b[0m ---------------------------------------------------------------------------------------\n",
      "\u001b[1;38;5;39mCOMET INFO:\u001b[0m   Data:\n",
      "\u001b[1;38;5;39mCOMET INFO:\u001b[0m     display_summary_level : 1\n",
      "\u001b[1;38;5;39mCOMET INFO:\u001b[0m     url                   : https://www.comet.com/artaasd95/tail-price/48d5157168cb4181bc9bde0f7f4cd3ee\n",
      "\u001b[1;38;5;39mCOMET INFO:\u001b[0m   Metrics [count] (min, max):\n",
      "\u001b[1;38;5;39mCOMET INFO:\u001b[0m     Discriminator\\Whole Train [100]       : (-102.34347764835802, -18.69125396706337)\n",
      "\u001b[1;38;5;39mCOMET INFO:\u001b[0m     Main Generator\\Whole Train [100]      : (4.244126149142782, 21.11188528272841)\n",
      "\u001b[1;38;5;39mCOMET INFO:\u001b[0m     Noise Discriminator\\Whole Train [200] : (0.6625342965126038, 0.7321289777755737)\n",
      "\u001b[1;38;5;39mCOMET INFO:\u001b[0m     Noise Generator\\Whole Train [200]     : (0.6511847972869873, 0.7167172431945801)\n",
      "\u001b[1;38;5;39mCOMET INFO:\u001b[0m     loss [1080]                           : (-105.17340850830078, 21.217987060546875)\n",
      "\u001b[1;38;5;39mCOMET INFO:\u001b[0m   Uploads:\n",
      "\u001b[1;38;5;39mCOMET INFO:\u001b[0m     environment details      : 1\n",
      "\u001b[1;38;5;39mCOMET INFO:\u001b[0m     filename                 : 1\n",
      "\u001b[1;38;5;39mCOMET INFO:\u001b[0m     git metadata             : 1\n",
      "\u001b[1;38;5;39mCOMET INFO:\u001b[0m     git-patch (uncompressed) : 1 (65.70 KB)\n",
      "\u001b[1;38;5;39mCOMET INFO:\u001b[0m     installed packages       : 1\n",
      "\u001b[1;38;5;39mCOMET INFO:\u001b[0m     model graph              : 1\n",
      "\u001b[1;38;5;39mCOMET INFO:\u001b[0m     notebook                 : 1\n",
      "\u001b[1;38;5;39mCOMET INFO:\u001b[0m     source_code              : 1\n",
      "\u001b[1;38;5;39mCOMET INFO:\u001b[0m \n",
      "\u001b[1;38;5;39mCOMET INFO:\u001b[0m Uploading 1 metrics, params and output messages\n"
     ]
    }
   ],
   "source": [
    "experiment.end()"
   ]
  },
  {
   "cell_type": "code",
   "execution_count": 45,
   "metadata": {},
   "outputs": [],
   "source": [
    "torch.save(main_gen, 'checkpoints/main_gen_xau.pth')\n",
    "torch.save(discriminator, 'checkpoints/discriminator_xau.pth')\n",
    "\n",
    "torch.save(noise_gen, 'checkpoints/noise_gen_xau.pth')\n",
    "torch.save(noise_disc, 'checkpoints/noise_disc_xau.pth')"
   ]
  },
  {
   "cell_type": "code",
   "execution_count": 46,
   "metadata": {},
   "outputs": [
    {
     "data": {
      "text/plain": [
       "tensor([[0.2077],\n",
       "        [0.2034],\n",
       "        [0.1985],\n",
       "        [0.2201],\n",
       "        [0.1853],\n",
       "        [0.2026],\n",
       "        [0.2092],\n",
       "        [0.2049],\n",
       "        [0.1995],\n",
       "        [0.1965],\n",
       "        [0.2129],\n",
       "        [0.1961],\n",
       "        [0.2065],\n",
       "        [0.2149],\n",
       "        [0.2014],\n",
       "        [0.1851],\n",
       "        [0.1843],\n",
       "        [0.2044],\n",
       "        [0.2023],\n",
       "        [0.2107],\n",
       "        [0.2115],\n",
       "        [0.2148],\n",
       "        [0.2047],\n",
       "        [0.2141],\n",
       "        [0.1902],\n",
       "        [0.1942],\n",
       "        [0.1856],\n",
       "        [0.2038],\n",
       "        [0.2104],\n",
       "        [0.2115],\n",
       "        [0.2001],\n",
       "        [0.2084],\n",
       "        [0.1856],\n",
       "        [0.2052],\n",
       "        [0.1938],\n",
       "        [0.1962],\n",
       "        [0.2068],\n",
       "        [0.2078],\n",
       "        [0.1987],\n",
       "        [0.1927],\n",
       "        [0.2020],\n",
       "        [0.2206],\n",
       "        [0.2011],\n",
       "        [0.1970],\n",
       "        [0.2108],\n",
       "        [0.2081],\n",
       "        [0.1998],\n",
       "        [0.2035],\n",
       "        [0.1950],\n",
       "        [0.2011],\n",
       "        [0.1921],\n",
       "        [0.2004],\n",
       "        [0.2057],\n",
       "        [0.2120],\n",
       "        [0.2024],\n",
       "        [0.1985],\n",
       "        [0.1833],\n",
       "        [0.2102],\n",
       "        [0.2060],\n",
       "        [0.2001],\n",
       "        [0.1861],\n",
       "        [0.1961],\n",
       "        [0.1952],\n",
       "        [0.2053]], grad_fn=<AddmmBackward0>)"
      ]
     },
     "execution_count": 46,
     "metadata": {},
     "output_type": "execute_result"
    }
   ],
   "source": [
    "main_gen(torch.rand([batch_size, 1]))"
   ]
  },
  {
   "cell_type": "code",
   "execution_count": 47,
   "metadata": {},
   "outputs": [
    {
     "data": {
      "text/plain": [
       "<AxesSubplot: >"
      ]
     },
     "execution_count": 47,
     "metadata": {},
     "output_type": "execute_result"
    },
    {
     "data": {
      "image/png": "[encoded data removed]",
      "text/plain": [
       "<Figure size 640x480 with 1 Axes>"
      ]
     },
     "metadata": {},
     "output_type": "display_data"
    }
   ],
   "source": [
    "pd.DataFrame(fake_data.detach().numpy()).plot()"
   ]
  },
  {
   "cell_type": "code",
   "execution_count": 48,
   "metadata": {},
   "outputs": [
    {
     "data": {
      "text/plain": [
       "tensor(22.9427, grad_fn=<MseLossBackward0>)"
      ]
     },
     "execution_count": 48,
     "metadata": {},
     "output_type": "execute_result"
    }
   ],
   "source": [
    "F.mse_loss(fake_noise, z1)"
   ]
  },
  {
   "cell_type": "code",
   "execution_count": null,
   "metadata": {},
   "outputs": [],
   "source": []
  },
  {
   "cell_type": "code",
   "execution_count": null,
   "metadata": {},
   "outputs": [],
   "source": []
  }
 ],
 "metadata": {
  "kernelspec": {
   "display_name": "torch",
   "language": "python",
   "name": "python3"
  },
  "language_info": {
   "codemirror_mode": {
    "name": "ipython",
    "version": 3
   },
   "file_extension": ".py",
   "mimetype": "text/x-python",
   "name": "python",
   "nbconvert_exporter": "python",
   "pygments_lexer": "ipython3",
   "version": "3.9.0"
  }
 },
 "nbformat": 4,
 "nbformat_minor": 2
}
