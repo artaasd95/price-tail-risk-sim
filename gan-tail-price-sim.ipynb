{
 "cells": [
  {
   "cell_type": "code",
   "execution_count": 108,
   "metadata": {},
   "outputs": [
    {
     "name": "stdout",
     "output_type": "stream",
     "text": [
      "The autoreload extension is already loaded. To reload it, use:\n",
      "  %reload_ext autoreload\n"
     ]
    }
   ],
   "source": [
    "%load_ext autoreload\n",
    "%autoreload 2\n"
   ]
  },
  {
   "cell_type": "code",
   "execution_count": 109,
   "metadata": {},
   "outputs": [],
   "source": [
    "import torch\n",
    "import torch.nn as nn\n",
    "import torch.nn.functional as F\n",
    "from tqdm import tqdm\n",
    "from datetime import datetime\n",
    "import pandas as pd\n",
    "import pytz\n",
    "import numpy as np\n",
    "\n",
    "from models.gan_models import *\n",
    "import yfinance as yf\n",
    "import MetaTrader5 as mt5\n",
    "import matplotlib.pyplot as plt\n",
    "\n",
    "import os"
   ]
  },
  {
   "cell_type": "code",
   "execution_count": 110,
   "metadata": {},
   "outputs": [],
   "source": [
    "data = pd.read_csv('xau_2021_H4.csv')"
   ]
  },
  {
   "cell_type": "code",
   "execution_count": 93,
   "metadata": {},
   "outputs": [],
   "source": [
    "input_size = 1\n",
    "hidden_size = 1024\n",
    "seq_length = 50\n",
    "num_layers = 10\n",
    "batch_size = 32\n",
    "num_epochs = 150\n",
    "learning_rate = 0.3\n",
    "\n",
    "# Initialize models\n",
    "main_gen = MainGenerator(input_size, hidden_size, num_layers, 0.5, 1)\n",
    "noise_gen = NoiseGenerator(input_size, 2048, 1, 0.4)\n",
    "discriminator = Discriminator(input_size, hidden_size, 15, 0.4)"
   ]
  },
  {
   "cell_type": "code",
   "execution_count": 111,
   "metadata": {},
   "outputs": [],
   "source": [
    "enable_cuda = True\n",
    "device = torch.device('cuda' if torch.cuda.is_available() and enable_cuda else 'cpu')"
   ]
  },
  {
   "cell_type": "code",
   "execution_count": 112,
   "metadata": {},
   "outputs": [],
   "source": [
    "main_gen = torch.load('checkpoints/main_gen_xau.pth', map_location=torch.device(device))\n",
    "noise_gen = torch.load('checkpoints/noise_gen_xau.pth', map_location=torch.device(device))\n",
    "discriminator = torch.load('checkpoints/discriminator_xau.pth', map_location=torch.device(device))"
   ]
  },
  {
   "cell_type": "code",
   "execution_count": 113,
   "metadata": {},
   "outputs": [
    {
     "data": {
      "text/plain": [
       "Discriminator(\n",
       "  (lstm): LSTM(1, 1024, num_layers=15, batch_first=True, dropout=0.4)\n",
       "  (fc1): Linear(in_features=1024, out_features=128, bias=True)\n",
       "  (fc2): Linear(in_features=128, out_features=1, bias=True)\n",
       "  (leaky_relu): LeakyReLU(negative_slope=0.2)\n",
       "  (sigmoid): Sigmoid()\n",
       ")"
      ]
     },
     "execution_count": 113,
     "metadata": {},
     "output_type": "execute_result"
    }
   ],
   "source": [
    "main_gen.eval()\n",
    "noise_gen.eval()\n",
    "discriminator.eval()"
   ]
  },
  {
   "cell_type": "code",
   "execution_count": 114,
   "metadata": {},
   "outputs": [],
   "source": [
    "actual1_data = data[:int(len(data)*0.9)]\n",
    "actual2_data = data[int(len(data)*0.9):]"
   ]
  },
  {
   "cell_type": "code",
   "execution_count": 17,
   "metadata": {},
   "outputs": [],
   "source": [
    "for idx in range(len(actual1_data)):\n",
    "    price = torch.tensor(actual1_data.iloc[idx].close, dtype=torch.float).reshape(1,1)\n",
    "    price = price.to(device)\n",
    "    # Generate random noise inputs\n",
    "    z1 = torch.rand([1])\n",
    "    z1 = z1.to(device)\n",
    "    #z2 = cauchy_dist.sample([1])\n",
    "    # Generate fake data\n",
    "    fake_main = main_gen(price)\n",
    "    fake_noise = noise_gen(z1)\n",
    "    fake_data = fake_main + fake_noise\n",
    "\n",
    "    disc_out = discriminator(fake_data)\n",
    "    log_disc_out = F.log_softmax(disc_out , dim=0)"
   ]
  },
  {
   "cell_type": "code",
   "execution_count": 115,
   "metadata": {},
   "outputs": [],
   "source": [
    "prdictions_list = []\n",
    "simulations_count = 10\n",
    "sim_range = len(actual2_data)\n",
    "for sim in range(simulations_count):\n",
    "    predictions = []\n",
    "    price = torch.tensor(actual1_data.iloc[-1].close, dtype=torch.float).reshape(1,1)\n",
    "    generated = main_gen(price)\n",
    "    #generated = torch.exp(generated)\n",
    "    predictions.append(generated)\n",
    "    for p_item in range(sim_range-1):\n",
    "        generated = main_gen(predictions[-1])\n",
    "        noise = noise_gen(torch.rand([1]))\n",
    "        #generated = torch.exp(generated)\n",
    "        #noise = torch.exp(noise)\n",
    "        fake = generated + noise\n",
    "        predictions.append(fake)\n",
    "    for predi in range(len(predictions)):\n",
    "        predictions[predi] = predictions[predi].item()\n",
    "    prdictions_list.append(predictions)"
   ]
  },
  {
   "cell_type": "code",
   "execution_count": 116,
   "metadata": {},
   "outputs": [],
   "source": [
    "import pickle\n",
    "\n",
    "\n",
    "# Open a file in binary write mode\n",
    "with open('prdictions_list.pickle', 'wb') as f:\n",
    "    # Pickle the list\n",
    "    pickle.dump(prdictions_list, f)"
   ]
  },
  {
   "cell_type": "code",
   "execution_count": 117,
   "metadata": {},
   "outputs": [],
   "source": [
    "predictions_df = pd.DataFrame(prdictions_list).T"
   ]
  },
  {
   "cell_type": "code",
   "execution_count": 118,
   "metadata": {},
   "outputs": [
    {
     "data": {
      "text/html": [
       "<div>\n",
       "<style scoped>\n",
       "    .dataframe tbody tr th:only-of-type {\n",
       "        vertical-align: middle;\n",
       "    }\n",
       "\n",
       "    .dataframe tbody tr th {\n",
       "        vertical-align: top;\n",
       "    }\n",
       "\n",
       "    .dataframe thead th {\n",
       "        text-align: right;\n",
       "    }\n",
       "</style>\n",
       "<table border=\"1\" class=\"dataframe\">\n",
       "  <thead>\n",
       "    <tr style=\"text-align: right;\">\n",
       "      <th></th>\n",
       "      <th>0</th>\n",
       "      <th>1</th>\n",
       "      <th>2</th>\n",
       "      <th>3</th>\n",
       "      <th>4</th>\n",
       "      <th>5</th>\n",
       "      <th>6</th>\n",
       "      <th>7</th>\n",
       "      <th>8</th>\n",
       "      <th>9</th>\n",
       "    </tr>\n",
       "  </thead>\n",
       "  <tbody>\n",
       "    <tr>\n",
       "      <th>0</th>\n",
       "      <td>0.017237</td>\n",
       "      <td>0.017237</td>\n",
       "      <td>0.017237</td>\n",
       "      <td>0.017237</td>\n",
       "      <td>0.017237</td>\n",
       "      <td>0.017237</td>\n",
       "      <td>0.017237</td>\n",
       "      <td>0.017237</td>\n",
       "      <td>0.017237</td>\n",
       "      <td>0.017237</td>\n",
       "    </tr>\n",
       "    <tr>\n",
       "      <th>1</th>\n",
       "      <td>0.029558</td>\n",
       "      <td>0.029550</td>\n",
       "      <td>0.029550</td>\n",
       "      <td>0.029558</td>\n",
       "      <td>0.029548</td>\n",
       "      <td>0.029551</td>\n",
       "      <td>0.029550</td>\n",
       "      <td>0.029578</td>\n",
       "      <td>0.029570</td>\n",
       "      <td>0.029557</td>\n",
       "    </tr>\n",
       "    <tr>\n",
       "      <th>2</th>\n",
       "      <td>0.029554</td>\n",
       "      <td>0.029571</td>\n",
       "      <td>0.029552</td>\n",
       "      <td>0.029551</td>\n",
       "      <td>0.029567</td>\n",
       "      <td>0.029550</td>\n",
       "      <td>0.029556</td>\n",
       "      <td>0.029559</td>\n",
       "      <td>0.029571</td>\n",
       "      <td>0.029571</td>\n",
       "    </tr>\n",
       "    <tr>\n",
       "      <th>3</th>\n",
       "      <td>0.029548</td>\n",
       "      <td>0.029549</td>\n",
       "      <td>0.029553</td>\n",
       "      <td>0.029570</td>\n",
       "      <td>0.029549</td>\n",
       "      <td>0.029554</td>\n",
       "      <td>0.029570</td>\n",
       "      <td>0.029551</td>\n",
       "      <td>0.029548</td>\n",
       "      <td>0.029549</td>\n",
       "    </tr>\n",
       "    <tr>\n",
       "      <th>4</th>\n",
       "      <td>0.029565</td>\n",
       "      <td>0.029553</td>\n",
       "      <td>0.029548</td>\n",
       "      <td>0.029550</td>\n",
       "      <td>0.029583</td>\n",
       "      <td>0.029559</td>\n",
       "      <td>0.029548</td>\n",
       "      <td>0.029551</td>\n",
       "      <td>0.029550</td>\n",
       "      <td>0.029570</td>\n",
       "    </tr>\n",
       "    <tr>\n",
       "      <th>...</th>\n",
       "      <td>...</td>\n",
       "      <td>...</td>\n",
       "      <td>...</td>\n",
       "      <td>...</td>\n",
       "      <td>...</td>\n",
       "      <td>...</td>\n",
       "      <td>...</td>\n",
       "      <td>...</td>\n",
       "      <td>...</td>\n",
       "      <td>...</td>\n",
       "    </tr>\n",
       "    <tr>\n",
       "      <th>554</th>\n",
       "      <td>0.029550</td>\n",
       "      <td>0.029549</td>\n",
       "      <td>0.029568</td>\n",
       "      <td>0.029558</td>\n",
       "      <td>0.029570</td>\n",
       "      <td>0.029554</td>\n",
       "      <td>0.029555</td>\n",
       "      <td>0.029568</td>\n",
       "      <td>0.029552</td>\n",
       "      <td>0.029570</td>\n",
       "    </tr>\n",
       "    <tr>\n",
       "      <th>555</th>\n",
       "      <td>0.029554</td>\n",
       "      <td>0.029551</td>\n",
       "      <td>0.029550</td>\n",
       "      <td>0.029550</td>\n",
       "      <td>0.029550</td>\n",
       "      <td>0.029570</td>\n",
       "      <td>0.029549</td>\n",
       "      <td>0.029571</td>\n",
       "      <td>0.029554</td>\n",
       "      <td>0.029577</td>\n",
       "    </tr>\n",
       "    <tr>\n",
       "      <th>556</th>\n",
       "      <td>0.029550</td>\n",
       "      <td>0.029570</td>\n",
       "      <td>0.029554</td>\n",
       "      <td>0.029549</td>\n",
       "      <td>0.029549</td>\n",
       "      <td>0.029561</td>\n",
       "      <td>0.029554</td>\n",
       "      <td>0.029554</td>\n",
       "      <td>0.029570</td>\n",
       "      <td>0.029570</td>\n",
       "    </tr>\n",
       "    <tr>\n",
       "      <th>557</th>\n",
       "      <td>0.029566</td>\n",
       "      <td>0.029559</td>\n",
       "      <td>0.029572</td>\n",
       "      <td>0.029561</td>\n",
       "      <td>0.029566</td>\n",
       "      <td>0.029549</td>\n",
       "      <td>0.029567</td>\n",
       "      <td>0.029549</td>\n",
       "      <td>0.029570</td>\n",
       "      <td>0.029549</td>\n",
       "    </tr>\n",
       "    <tr>\n",
       "      <th>558</th>\n",
       "      <td>0.029549</td>\n",
       "      <td>0.029571</td>\n",
       "      <td>0.029558</td>\n",
       "      <td>0.029557</td>\n",
       "      <td>0.029553</td>\n",
       "      <td>0.029550</td>\n",
       "      <td>0.029556</td>\n",
       "      <td>0.029569</td>\n",
       "      <td>0.029568</td>\n",
       "      <td>0.029553</td>\n",
       "    </tr>\n",
       "  </tbody>\n",
       "</table>\n",
       "<p>559 rows × 10 columns</p>\n",
       "</div>"
      ],
      "text/plain": [
       "            0         1         2         3         4         5         6  \\\n",
       "0    0.017237  0.017237  0.017237  0.017237  0.017237  0.017237  0.017237   \n",
       "1    0.029558  0.029550  0.029550  0.029558  0.029548  0.029551  0.029550   \n",
       "2    0.029554  0.029571  0.029552  0.029551  0.029567  0.029550  0.029556   \n",
       "3    0.029548  0.029549  0.029553  0.029570  0.029549  0.029554  0.029570   \n",
       "4    0.029565  0.029553  0.029548  0.029550  0.029583  0.029559  0.029548   \n",
       "..        ...       ...       ...       ...       ...       ...       ...   \n",
       "554  0.029550  0.029549  0.029568  0.029558  0.029570  0.029554  0.029555   \n",
       "555  0.029554  0.029551  0.029550  0.029550  0.029550  0.029570  0.029549   \n",
       "556  0.029550  0.029570  0.029554  0.029549  0.029549  0.029561  0.029554   \n",
       "557  0.029566  0.029559  0.029572  0.029561  0.029566  0.029549  0.029567   \n",
       "558  0.029549  0.029571  0.029558  0.029557  0.029553  0.029550  0.029556   \n",
       "\n",
       "            7         8         9  \n",
       "0    0.017237  0.017237  0.017237  \n",
       "1    0.029578  0.029570  0.029557  \n",
       "2    0.029559  0.029571  0.029571  \n",
       "3    0.029551  0.029548  0.029549  \n",
       "4    0.029551  0.029550  0.029570  \n",
       "..        ...       ...       ...  \n",
       "554  0.029568  0.029552  0.029570  \n",
       "555  0.029571  0.029554  0.029577  \n",
       "556  0.029554  0.029570  0.029570  \n",
       "557  0.029549  0.029570  0.029549  \n",
       "558  0.029569  0.029568  0.029553  \n",
       "\n",
       "[559 rows x 10 columns]"
      ]
     },
     "execution_count": 118,
     "metadata": {},
     "output_type": "execute_result"
    }
   ],
   "source": [
    "predictions_df"
   ]
  },
  {
   "cell_type": "code",
   "execution_count": 119,
   "metadata": {},
   "outputs": [
    {
     "data": {
      "text/plain": [
       "<Axes: >"
      ]
     },
     "execution_count": 119,
     "metadata": {},
     "output_type": "execute_result"
    },
    {
     "data": {
      "image/png": "[encoded data removed]",
      "text/plain": [
       "<Figure size 640x480 with 1 Axes>"
      ]
     },
     "metadata": {},
     "output_type": "display_data"
    }
   ],
   "source": [
    "predictions_df.plot()"
   ]
  },
  {
   "cell_type": "code",
   "execution_count": 120,
   "metadata": {},
   "outputs": [
    {
     "data": {
      "image/png": "[encoded data removed]",
      "text/plain": [
       "<Figure size 1500x1000 with 1 Axes>"
      ]
     },
     "metadata": {},
     "output_type": "display_data"
    }
   ],
   "source": [
    "plt.figure(figsize=(15, 10))  # Adjust figure size for better visibility\n",
    "\n",
    "for col in predictions_df.columns:\n",
    "    plt.plot(predictions_df[col], label=col)  # Plot each column\n",
    "\n",
    "plt.title('Price Data Series')\n",
    "plt.xlabel('Time')\n",
    "plt.ylabel('Price')\n",
    "#plt.legend(loc='upper right', bbox_to_anchor=(1.15, 1.0), ncol=2)  # Adjust legend position\n",
    "plt.show()"
   ]
  },
  {
   "cell_type": "code",
   "execution_count": null,
   "metadata": {},
   "outputs": [],
   "source": []
  }
 ],
 "metadata": {
  "kernelspec": {
   "display_name": "torch",
   "language": "python",
   "name": "python3"
  },
  "language_info": {
   "codemirror_mode": {
    "name": "ipython",
    "version": 3
   },
   "file_extension": ".py",
   "mimetype": "text/x-python",
   "name": "python",
   "nbconvert_exporter": "python",
   "pygments_lexer": "ipython3",
   "version": "3.11.0"
  }
 },
 "nbformat": 4,
 "nbformat_minor": 2
}
