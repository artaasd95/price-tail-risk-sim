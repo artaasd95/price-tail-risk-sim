{
 "cells": [
  {
   "cell_type": "code",
   "execution_count": 90,
   "metadata": {},
   "outputs": [
    {
     "name": "stdout",
     "output_type": "stream",
     "text": [
      "The autoreload extension is already loaded. To reload it, use:\n",
      "  %reload_ext autoreload\n"
     ]
    }
   ],
   "source": [
    "%load_ext autoreload\n",
    "%autoreload 2\n"
   ]
  },
  {
   "cell_type": "code",
   "execution_count": 91,
   "metadata": {},
   "outputs": [],
   "source": [
    "import torch\n",
    "import torch.nn as nn\n",
    "import torch.nn.functional as F\n",
    "from tqdm import tqdm\n",
    "from datetime import datetime\n",
    "import pandas as pd\n",
    "import pytz\n",
    "import numpy as np\n",
    "\n",
    "from models.gan_models import *\n",
    "import yfinance as yf\n",
    "import MetaTrader5 as mt5\n",
    "import matplotlib.pyplot as plt\n",
    "\n",
    "import os"
   ]
  },
  {
   "cell_type": "code",
   "execution_count": 92,
   "metadata": {},
   "outputs": [],
   "source": [
    "data = pd.read_csv('xau_2021_H4.csv')"
   ]
  },
  {
   "cell_type": "code",
   "execution_count": 93,
   "metadata": {},
   "outputs": [],
   "source": [
    "input_size = 1\n",
    "hidden_size = 1024\n",
    "seq_length = 50\n",
    "num_layers = 10\n",
    "batch_size = 32\n",
    "num_epochs = 150\n",
    "learning_rate = 0.3\n",
    "\n",
    "# Initialize models\n",
    "main_gen = MainGenerator(input_size, hidden_size, num_layers, 0.5, 1)\n",
    "noise_gen = NoiseGenerator(input_size, 1024, 1, 0.4)\n",
    "discriminator = Discriminator(input_size, hidden_size, 15, 0.4)"
   ]
  },
  {
   "cell_type": "code",
   "execution_count": 94,
   "metadata": {},
   "outputs": [],
   "source": [
    "enable_cuda = True\n",
    "device = torch.device('cuda' if torch.cuda.is_available() and enable_cuda else 'cpu')"
   ]
  },
  {
   "cell_type": "code",
   "execution_count": 95,
   "metadata": {},
   "outputs": [],
   "source": [
    "main_gen = torch.load('checkpoints/main_gen_xau.pth', map_location=torch.device(device))\n",
    "noise_gen = torch.load('checkpoints/noise_gen_xau.pth', map_location=torch.device(device))\n",
    "discriminator = torch.load('checkpoints/discriminator_xau.pth', map_location=torch.device(device))"
   ]
  },
  {
   "cell_type": "code",
   "execution_count": 96,
   "metadata": {},
   "outputs": [
    {
     "data": {
      "text/plain": [
       "Discriminator(\n",
       "  (lstm): LSTM(1, 1024, num_layers=15, batch_first=True, dropout=0.4)\n",
       "  (fc1): Linear(in_features=1024, out_features=128, bias=True)\n",
       "  (fc2): Linear(in_features=128, out_features=1, bias=True)\n",
       "  (leaky_relu): LeakyReLU(negative_slope=0.2)\n",
       "  (sigmoid): Sigmoid()\n",
       ")"
      ]
     },
     "execution_count": 96,
     "metadata": {},
     "output_type": "execute_result"
    }
   ],
   "source": [
    "main_gen.eval()\n",
    "noise_gen.eval()\n",
    "discriminator.eval()"
   ]
  },
  {
   "cell_type": "code",
   "execution_count": 97,
   "metadata": {},
   "outputs": [],
   "source": [
    "actual1_data = data[:int(len(data)*0.9)]\n",
    "actual2_data = data[int(len(data)*0.9):]"
   ]
  },
  {
   "cell_type": "code",
   "execution_count": 17,
   "metadata": {},
   "outputs": [],
   "source": [
    "for idx in range(len(actual1_data)):\n",
    "    price = torch.tensor(actual1_data.iloc[idx].close, dtype=torch.float).reshape(1,1)\n",
    "    price = price.to(device)\n",
    "    # Generate random noise inputs\n",
    "    z1 = torch.rand([1])\n",
    "    z1 = z1.to(device)\n",
    "    #z2 = cauchy_dist.sample([1])\n",
    "    # Generate fake data\n",
    "    fake_main = main_gen(price)\n",
    "    fake_noise = noise_gen(z1)\n",
    "    fake_data = fake_main + fake_noise\n",
    "\n",
    "    disc_out = discriminator(fake_data)\n",
    "    log_disc_out = F.log_softmax(disc_out , dim=0)"
   ]
  },
  {
   "cell_type": "code",
   "execution_count": 98,
   "metadata": {},
   "outputs": [],
   "source": [
    "prdictions_list = []\n",
    "simulations_count = 10\n",
    "sim_range = len(actual2_data)\n",
    "for sim in range(simulations_count):\n",
    "    predictions = []\n",
    "    price = torch.tensor(actual1_data.iloc[-1].close, dtype=torch.float).reshape(1,1)\n",
    "    generated = main_gen(price)\n",
    "    #generated = torch.exp(generated)\n",
    "    predictions.append(generated)\n",
    "    for p_item in range(sim_range-1):\n",
    "        generated = main_gen(predictions[-1])\n",
    "        noise = noise_gen(torch.rand([1]))\n",
    "        #generated = torch.exp(generated)\n",
    "        #noise = torch.exp(noise)\n",
    "        fake = generated + noise\n",
    "        predictions.append(fake)\n",
    "    for predi in range(len(predictions)):\n",
    "        predictions[predi] = predictions[predi].item()\n",
    "    prdictions_list.append(predictions)"
   ]
  },
  {
   "cell_type": "code",
   "execution_count": 99,
   "metadata": {},
   "outputs": [],
   "source": [
    "import pickle\n",
    "\n",
    "\n",
    "# Open a file in binary write mode\n",
    "with open('prdictions_list.pickle', 'wb') as f:\n",
    "    # Pickle the list\n",
    "    pickle.dump(prdictions_list, f)"
   ]
  },
  {
   "cell_type": "code",
   "execution_count": 100,
   "metadata": {},
   "outputs": [],
   "source": [
    "predictions_df = pd.DataFrame(prdictions_list).T"
   ]
  },
  {
   "cell_type": "code",
   "execution_count": 101,
   "metadata": {},
   "outputs": [
    {
     "data": {
      "text/html": [
       "<div>\n",
       "<style scoped>\n",
       "    .dataframe tbody tr th:only-of-type {\n",
       "        vertical-align: middle;\n",
       "    }\n",
       "\n",
       "    .dataframe tbody tr th {\n",
       "        vertical-align: top;\n",
       "    }\n",
       "\n",
       "    .dataframe thead th {\n",
       "        text-align: right;\n",
       "    }\n",
       "</style>\n",
       "<table border=\"1\" class=\"dataframe\">\n",
       "  <thead>\n",
       "    <tr style=\"text-align: right;\">\n",
       "      <th></th>\n",
       "      <th>0</th>\n",
       "      <th>1</th>\n",
       "      <th>2</th>\n",
       "      <th>3</th>\n",
       "      <th>4</th>\n",
       "      <th>5</th>\n",
       "      <th>6</th>\n",
       "      <th>7</th>\n",
       "      <th>8</th>\n",
       "      <th>9</th>\n",
       "    </tr>\n",
       "  </thead>\n",
       "  <tbody>\n",
       "    <tr>\n",
       "      <th>0</th>\n",
       "      <td>-0.449708</td>\n",
       "      <td>-0.449708</td>\n",
       "      <td>-0.449708</td>\n",
       "      <td>-0.449708</td>\n",
       "      <td>-0.449708</td>\n",
       "      <td>-0.449708</td>\n",
       "      <td>-0.449708</td>\n",
       "      <td>-0.449708</td>\n",
       "      <td>-0.449708</td>\n",
       "      <td>-0.449708</td>\n",
       "    </tr>\n",
       "    <tr>\n",
       "      <th>1</th>\n",
       "      <td>-0.848298</td>\n",
       "      <td>-0.848312</td>\n",
       "      <td>-0.848315</td>\n",
       "      <td>-0.848331</td>\n",
       "      <td>-0.848245</td>\n",
       "      <td>-0.848262</td>\n",
       "      <td>-0.848337</td>\n",
       "      <td>-0.848297</td>\n",
       "      <td>-0.848236</td>\n",
       "      <td>-0.848245</td>\n",
       "    </tr>\n",
       "    <tr>\n",
       "      <th>2</th>\n",
       "      <td>-0.848256</td>\n",
       "      <td>-0.848262</td>\n",
       "      <td>-0.848279</td>\n",
       "      <td>-0.848268</td>\n",
       "      <td>-0.848250</td>\n",
       "      <td>-0.848274</td>\n",
       "      <td>-0.848290</td>\n",
       "      <td>-0.848253</td>\n",
       "      <td>-0.848264</td>\n",
       "      <td>-0.848341</td>\n",
       "    </tr>\n",
       "    <tr>\n",
       "      <th>3</th>\n",
       "      <td>-0.848238</td>\n",
       "      <td>-0.848290</td>\n",
       "      <td>-0.848241</td>\n",
       "      <td>-0.848254</td>\n",
       "      <td>-0.848310</td>\n",
       "      <td>-0.848286</td>\n",
       "      <td>-0.848297</td>\n",
       "      <td>-0.848339</td>\n",
       "      <td>-0.848242</td>\n",
       "      <td>-0.848240</td>\n",
       "    </tr>\n",
       "    <tr>\n",
       "      <th>4</th>\n",
       "      <td>-0.848288</td>\n",
       "      <td>-0.848238</td>\n",
       "      <td>-0.848300</td>\n",
       "      <td>-0.848261</td>\n",
       "      <td>-0.848257</td>\n",
       "      <td>-0.848250</td>\n",
       "      <td>-0.848253</td>\n",
       "      <td>-0.848268</td>\n",
       "      <td>-0.848237</td>\n",
       "      <td>-0.848299</td>\n",
       "    </tr>\n",
       "    <tr>\n",
       "      <th>...</th>\n",
       "      <td>...</td>\n",
       "      <td>...</td>\n",
       "      <td>...</td>\n",
       "      <td>...</td>\n",
       "      <td>...</td>\n",
       "      <td>...</td>\n",
       "      <td>...</td>\n",
       "      <td>...</td>\n",
       "      <td>...</td>\n",
       "      <td>...</td>\n",
       "    </tr>\n",
       "    <tr>\n",
       "      <th>554</th>\n",
       "      <td>-0.848319</td>\n",
       "      <td>-0.848255</td>\n",
       "      <td>-0.848281</td>\n",
       "      <td>-0.848289</td>\n",
       "      <td>-0.848337</td>\n",
       "      <td>-0.848254</td>\n",
       "      <td>-0.848286</td>\n",
       "      <td>-0.848246</td>\n",
       "      <td>-0.848241</td>\n",
       "      <td>-0.848244</td>\n",
       "    </tr>\n",
       "    <tr>\n",
       "      <th>555</th>\n",
       "      <td>-0.848249</td>\n",
       "      <td>-0.848277</td>\n",
       "      <td>-0.848260</td>\n",
       "      <td>-0.848271</td>\n",
       "      <td>-0.848243</td>\n",
       "      <td>-0.848296</td>\n",
       "      <td>-0.848286</td>\n",
       "      <td>-0.848250</td>\n",
       "      <td>-0.848279</td>\n",
       "      <td>-0.848253</td>\n",
       "    </tr>\n",
       "    <tr>\n",
       "      <th>556</th>\n",
       "      <td>-0.848319</td>\n",
       "      <td>-0.848263</td>\n",
       "      <td>-0.848253</td>\n",
       "      <td>-0.848288</td>\n",
       "      <td>-0.848294</td>\n",
       "      <td>-0.848254</td>\n",
       "      <td>-0.848335</td>\n",
       "      <td>-0.848318</td>\n",
       "      <td>-0.848252</td>\n",
       "      <td>-0.848320</td>\n",
       "    </tr>\n",
       "    <tr>\n",
       "      <th>557</th>\n",
       "      <td>-0.848247</td>\n",
       "      <td>-0.848240</td>\n",
       "      <td>-0.848345</td>\n",
       "      <td>-0.848239</td>\n",
       "      <td>-0.848240</td>\n",
       "      <td>-0.848277</td>\n",
       "      <td>-0.848291</td>\n",
       "      <td>-0.848264</td>\n",
       "      <td>-0.848333</td>\n",
       "      <td>-0.848293</td>\n",
       "    </tr>\n",
       "    <tr>\n",
       "      <th>558</th>\n",
       "      <td>-0.848239</td>\n",
       "      <td>-0.848337</td>\n",
       "      <td>-0.848275</td>\n",
       "      <td>-0.848253</td>\n",
       "      <td>-0.848238</td>\n",
       "      <td>-0.848340</td>\n",
       "      <td>-0.848272</td>\n",
       "      <td>-0.848337</td>\n",
       "      <td>-0.848274</td>\n",
       "      <td>-0.848308</td>\n",
       "    </tr>\n",
       "  </tbody>\n",
       "</table>\n",
       "<p>559 rows × 10 columns</p>\n",
       "</div>"
      ],
      "text/plain": [
       "            0         1         2         3         4         5         6  \\\n",
       "0   -0.449708 -0.449708 -0.449708 -0.449708 -0.449708 -0.449708 -0.449708   \n",
       "1   -0.848298 -0.848312 -0.848315 -0.848331 -0.848245 -0.848262 -0.848337   \n",
       "2   -0.848256 -0.848262 -0.848279 -0.848268 -0.848250 -0.848274 -0.848290   \n",
       "3   -0.848238 -0.848290 -0.848241 -0.848254 -0.848310 -0.848286 -0.848297   \n",
       "4   -0.848288 -0.848238 -0.848300 -0.848261 -0.848257 -0.848250 -0.848253   \n",
       "..        ...       ...       ...       ...       ...       ...       ...   \n",
       "554 -0.848319 -0.848255 -0.848281 -0.848289 -0.848337 -0.848254 -0.848286   \n",
       "555 -0.848249 -0.848277 -0.848260 -0.848271 -0.848243 -0.848296 -0.848286   \n",
       "556 -0.848319 -0.848263 -0.848253 -0.848288 -0.848294 -0.848254 -0.848335   \n",
       "557 -0.848247 -0.848240 -0.848345 -0.848239 -0.848240 -0.848277 -0.848291   \n",
       "558 -0.848239 -0.848337 -0.848275 -0.848253 -0.848238 -0.848340 -0.848272   \n",
       "\n",
       "            7         8         9  \n",
       "0   -0.449708 -0.449708 -0.449708  \n",
       "1   -0.848297 -0.848236 -0.848245  \n",
       "2   -0.848253 -0.848264 -0.848341  \n",
       "3   -0.848339 -0.848242 -0.848240  \n",
       "4   -0.848268 -0.848237 -0.848299  \n",
       "..        ...       ...       ...  \n",
       "554 -0.848246 -0.848241 -0.848244  \n",
       "555 -0.848250 -0.848279 -0.848253  \n",
       "556 -0.848318 -0.848252 -0.848320  \n",
       "557 -0.848264 -0.848333 -0.848293  \n",
       "558 -0.848337 -0.848274 -0.848308  \n",
       "\n",
       "[559 rows x 10 columns]"
      ]
     },
     "execution_count": 101,
     "metadata": {},
     "output_type": "execute_result"
    }
   ],
   "source": [
    "predictions_df"
   ]
  },
  {
   "cell_type": "code",
   "execution_count": 102,
   "metadata": {},
   "outputs": [
    {
     "data": {
      "text/plain": [
       "<Axes: >"
      ]
     },
     "execution_count": 102,
     "metadata": {},
     "output_type": "execute_result"
    },
    {
     "data": {
      "image/png": "[encoded data removed]",
      "text/plain": [
       "<Figure size 640x480 with 1 Axes>"
      ]
     },
     "metadata": {},
     "output_type": "display_data"
    }
   ],
   "source": [
    "predictions_df.plot()"
   ]
  },
  {
   "cell_type": "code",
   "execution_count": 103,
   "metadata": {},
   "outputs": [
    {
     "data": {
      "image/png": "[encoded data removed]",
      "text/plain": [
       "<Figure size 1500x1000 with 1 Axes>"
      ]
     },
     "metadata": {},
     "output_type": "display_data"
    }
   ],
   "source": [
    "plt.figure(figsize=(15, 10))  # Adjust figure size for better visibility\n",
    "\n",
    "for col in predictions_df.columns:\n",
    "    plt.plot(predictions_df[col], label=col)  # Plot each column\n",
    "\n",
    "plt.title('Price Data Series')\n",
    "plt.xlabel('Time')\n",
    "plt.ylabel('Price')\n",
    "#plt.legend(loc='upper right', bbox_to_anchor=(1.15, 1.0), ncol=2)  # Adjust legend position\n",
    "plt.show()"
   ]
  },
  {
   "cell_type": "code",
   "execution_count": null,
   "metadata": {},
   "outputs": [],
   "source": []
  }
 ],
 "metadata": {
  "kernelspec": {
   "display_name": "torch",
   "language": "python",
   "name": "python3"
  },
  "language_info": {
   "codemirror_mode": {
    "name": "ipython",
    "version": 3
   },
   "file_extension": ".py",
   "mimetype": "text/x-python",
   "name": "python",
   "nbconvert_exporter": "python",
   "pygments_lexer": "ipython3",
   "version": "3.11.0"
  }
 },
 "nbformat": 4,
 "nbformat_minor": 2
}
