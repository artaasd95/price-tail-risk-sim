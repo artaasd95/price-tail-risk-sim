{
 "cells": [
  {
   "cell_type": "code",
   "execution_count": 1,
   "metadata": {},
   "outputs": [],
   "source": [
    "%load_ext autoreload\n",
    "%autoreload 2\n"
   ]
  },
  {
   "cell_type": "code",
   "execution_count": null,
   "metadata": {},
   "outputs": [],
   "source": [
    "from comet_ml import Experiment\n",
    "from comet_ml.integration.pytorch import log_model"
   ]
  },
  {
   "cell_type": "code",
   "execution_count": 28,
   "metadata": {},
   "outputs": [],
   "source": [
    "import torch\n",
    "import torch.nn as nn\n",
    "import torch.nn.functional as F\n",
    "from tqdm import tqdm\n",
    "from datetime import datetime\n",
    "import pandas as pd\n",
    "import pytz\n",
    "\n",
    "from models.gan_models import *\n",
    "import yfinance as yf\n",
    "import MetaTrader5 as mt5"
   ]
  },
  {
   "cell_type": "code",
   "execution_count": null,
   "metadata": {},
   "outputs": [],
   "source": [
    "experiment = Experiment(\n",
    "  api_key=\"vpNJF6XOWcHS6HqH9ZFEjwRcD\",\n",
    "  project_name=\"tail-price\",\n",
    "  workspace=\"artaasd95\"\n",
    ")"
   ]
  },
  {
   "cell_type": "code",
   "execution_count": 29,
   "metadata": {},
   "outputs": [
    {
     "name": "stdout",
     "output_type": "stream",
     "text": [
      "loading current tf data\n"
     ]
    }
   ],
   "source": [
    "mt5.initialize()\n",
    "\n",
    "print('loading current tf data')\n",
    "utc_from = datetime(2022, 1, 1, tzinfo=pytz.timezone(\"Asia/Nicosia\"))\n",
    "utc_to = datetime.now(pytz.timezone(\"Asia/Nicosia\"))\n",
    "\n",
    "data = mt5.copy_rates_range('XAUUSD', mt5.TIMEFRAME_D1, utc_from, utc_to)\n",
    "data = pd.DataFrame(data)\n",
    "time_data = data.time\n",
    "data.drop(columns=['tick_volume', 'spread', 'real_volume'], inplace=True)"
   ]
  },
  {
   "cell_type": "code",
   "execution_count": 30,
   "metadata": {},
   "outputs": [
    {
     "data": {
      "text/html": [
       "<div>\n",
       "<style scoped>\n",
       "    .dataframe tbody tr th:only-of-type {\n",
       "        vertical-align: middle;\n",
       "    }\n",
       "\n",
       "    .dataframe tbody tr th {\n",
       "        vertical-align: top;\n",
       "    }\n",
       "\n",
       "    .dataframe thead th {\n",
       "        text-align: right;\n",
       "    }\n",
       "</style>\n",
       "<table border=\"1\" class=\"dataframe\">\n",
       "  <thead>\n",
       "    <tr style=\"text-align: right;\">\n",
       "      <th></th>\n",
       "      <th>time</th>\n",
       "      <th>open</th>\n",
       "      <th>high</th>\n",
       "      <th>low</th>\n",
       "      <th>close</th>\n",
       "    </tr>\n",
       "  </thead>\n",
       "  <tbody>\n",
       "    <tr>\n",
       "      <th>0</th>\n",
       "      <td>1641168000</td>\n",
       "      <td>1828.42</td>\n",
       "      <td>1831.58</td>\n",
       "      <td>1798.18</td>\n",
       "      <td>1801.10</td>\n",
       "    </tr>\n",
       "    <tr>\n",
       "      <th>1</th>\n",
       "      <td>1641254400</td>\n",
       "      <td>1800.42</td>\n",
       "      <td>1816.58</td>\n",
       "      <td>1798.38</td>\n",
       "      <td>1814.27</td>\n",
       "    </tr>\n",
       "    <tr>\n",
       "      <th>2</th>\n",
       "      <td>1641340800</td>\n",
       "      <td>1813.82</td>\n",
       "      <td>1829.49</td>\n",
       "      <td>1808.15</td>\n",
       "      <td>1810.54</td>\n",
       "    </tr>\n",
       "    <tr>\n",
       "      <th>3</th>\n",
       "      <td>1641427200</td>\n",
       "      <td>1808.58</td>\n",
       "      <td>1812.07</td>\n",
       "      <td>1786.22</td>\n",
       "      <td>1789.52</td>\n",
       "    </tr>\n",
       "    <tr>\n",
       "      <th>4</th>\n",
       "      <td>1641513600</td>\n",
       "      <td>1790.42</td>\n",
       "      <td>1798.52</td>\n",
       "      <td>1782.41</td>\n",
       "      <td>1796.12</td>\n",
       "    </tr>\n",
       "    <tr>\n",
       "      <th>...</th>\n",
       "      <td>...</td>\n",
       "      <td>...</td>\n",
       "      <td>...</td>\n",
       "      <td>...</td>\n",
       "      <td>...</td>\n",
       "    </tr>\n",
       "    <tr>\n",
       "      <th>673</th>\n",
       "      <td>1723161600</td>\n",
       "      <td>2425.94</td>\n",
       "      <td>2437.02</td>\n",
       "      <td>2416.80</td>\n",
       "      <td>2430.82</td>\n",
       "    </tr>\n",
       "    <tr>\n",
       "      <th>674</th>\n",
       "      <td>1723420800</td>\n",
       "      <td>2428.05</td>\n",
       "      <td>2472.17</td>\n",
       "      <td>2423.83</td>\n",
       "      <td>2472.06</td>\n",
       "    </tr>\n",
       "    <tr>\n",
       "      <th>675</th>\n",
       "      <td>1723507200</td>\n",
       "      <td>2470.68</td>\n",
       "      <td>2476.97</td>\n",
       "      <td>2458.46</td>\n",
       "      <td>2465.41</td>\n",
       "    </tr>\n",
       "    <tr>\n",
       "      <th>676</th>\n",
       "      <td>1723593600</td>\n",
       "      <td>2466.51</td>\n",
       "      <td>2479.94</td>\n",
       "      <td>2438.05</td>\n",
       "      <td>2447.66</td>\n",
       "    </tr>\n",
       "    <tr>\n",
       "      <th>677</th>\n",
       "      <td>1723680000</td>\n",
       "      <td>2446.85</td>\n",
       "      <td>2458.77</td>\n",
       "      <td>2446.25</td>\n",
       "      <td>2455.95</td>\n",
       "    </tr>\n",
       "  </tbody>\n",
       "</table>\n",
       "<p>678 rows × 5 columns</p>\n",
       "</div>"
      ],
      "text/plain": [
       "           time     open     high      low    close\n",
       "0    1641168000  1828.42  1831.58  1798.18  1801.10\n",
       "1    1641254400  1800.42  1816.58  1798.38  1814.27\n",
       "2    1641340800  1813.82  1829.49  1808.15  1810.54\n",
       "3    1641427200  1808.58  1812.07  1786.22  1789.52\n",
       "4    1641513600  1790.42  1798.52  1782.41  1796.12\n",
       "..          ...      ...      ...      ...      ...\n",
       "673  1723161600  2425.94  2437.02  2416.80  2430.82\n",
       "674  1723420800  2428.05  2472.17  2423.83  2472.06\n",
       "675  1723507200  2470.68  2476.97  2458.46  2465.41\n",
       "676  1723593600  2466.51  2479.94  2438.05  2447.66\n",
       "677  1723680000  2446.85  2458.77  2446.25  2455.95\n",
       "\n",
       "[678 rows x 5 columns]"
      ]
     },
     "execution_count": 30,
     "metadata": {},
     "output_type": "execute_result"
    }
   ],
   "source": [
    "data"
   ]
  },
  {
   "cell_type": "code",
   "execution_count": 31,
   "metadata": {},
   "outputs": [],
   "source": [
    "close_price = data.close"
   ]
  },
  {
   "cell_type": "code",
   "execution_count": null,
   "metadata": {},
   "outputs": [],
   "source": [
    "input_size = 1\n",
    "hidden_size = 512\n",
    "seq_length = 50\n",
    "num_layers = 5\n",
    "batch_size = 256\n",
    "num_epochs = 100\n",
    "learning_rate = 0.2\n",
    "\n",
    "# Initialize models\n",
    "main_gen = MainGenerator(input_size, hidden_size, num_layers, 0.5, 1)\n",
    "noise_gen = NoiseGenerator(input_size, hidden_size, 1, 0.3)\n",
    "discriminator = Discriminator(input_size, hidden_size, 10, 0.3)"
   ]
  },
  {
   "cell_type": "code",
   "execution_count": null,
   "metadata": {},
   "outputs": [],
   "source": [
    "optimizer_G = torch.optim.AdamW(list(main_gen.parameters()) + list(noise_gen.parameters()), lr=learning_rate)\n",
    "optimizer_D = torch.optim.AdamW(discriminator.parameters(), lr=learning_rate)\n",
    "\n",
    "optim_g_sched = torch.optim.lr_scheduler.ExponentialLR(optimizer_G, 0.1)\n",
    "optim_d_sched = torch.optim.lr_scheduler.ExponentialLR(optimizer_D, 0.1)"
   ]
  },
  {
   "cell_type": "code",
   "execution_count": 45,
   "metadata": {},
   "outputs": [],
   "source": [
    "cauchy_dist = torch.distributions.cauchy.Cauchy(loc=0, scale=0.5)"
   ]
  },
  {
   "cell_type": "code",
   "execution_count": 51,
   "metadata": {},
   "outputs": [
    {
     "data": {
      "text/plain": [
       "tensor([[-0.2385]])"
      ]
     },
     "execution_count": 51,
     "metadata": {},
     "output_type": "execute_result"
    }
   ],
   "source": [
    "cauchy_dist.sample([1, 1])"
   ]
  },
  {
   "cell_type": "code",
   "execution_count": null,
   "metadata": {},
   "outputs": [],
   "source": [
    "# Training loop\n",
    "for epoch in tqdm(range(num_epochs)):\n",
    "    for idx in len(close_price):\n",
    "        price = torch.from_numpy(data.iloc[idx].close)\n",
    "        # Generate random noise inputs\n",
    "        z1 = cauchy_dist.sample([1])\n",
    "        #z2 = cauchy_dist.sample([1])\n",
    "        \n",
    "        # Generate fake data\n",
    "        fake_main = main_gen(price)\n",
    "        fake_noise = noise_gen(z1)\n",
    "        fake_data = fake_main + fake_noise\n",
    "        \n",
    "        # Train discriminator\n",
    "        optimizer_D.zero_grad()\n",
    "        real_output = discriminator(price)\n",
    "        fake_output = discriminator(fake_data.detach())\n",
    "        d_loss = discriminator_loss(real_output, fake_output)\n",
    "        d_loss.backward()\n",
    "        optimizer_D.step()\n",
    "        \n",
    "        # Train generators\n",
    "        optimizer_G.zero_grad()\n",
    "        fake_output = discriminator(fake_data)\n",
    "        g_loss = generator_loss(fake_output)\n",
    "        g_loss.backward()\n",
    "        optimizer_G.step()\n",
    "    \n",
    "    optim_g_sched.step()\n",
    "    optim_d_sched.step()\n",
    "    \n",
    "    print(f\"Epoch [{epoch+1}/{num_epochs}]  Discriminator Loss: {d_loss.item():.4f}  Generator Loss: {g_loss.item():.4f}\")\n"
   ]
  },
  {
   "cell_type": "code",
   "execution_count": null,
   "metadata": {},
   "outputs": [],
   "source": []
  }
 ],
 "metadata": {
  "kernelspec": {
   "display_name": "torch",
   "language": "python",
   "name": "python3"
  },
  "language_info": {
   "codemirror_mode": {
    "name": "ipython",
    "version": 3
   },
   "file_extension": ".py",
   "mimetype": "text/x-python",
   "name": "python",
   "nbconvert_exporter": "python",
   "pygments_lexer": "ipython3",
   "version": "3.11.0"
  }
 },
 "nbformat": 4,
 "nbformat_minor": 2
}
